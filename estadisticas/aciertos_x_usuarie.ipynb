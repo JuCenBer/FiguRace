{
 "cells": [
  {
   "cell_type": "markdown",
   "metadata": {},
   "source": [
    "Primero importo las librerias necesarias para obtener la estadistica"
   ]
  },
  {
   "cell_type": "code",
   "execution_count": 2,
   "metadata": {},
   "outputs": [],
   "source": [
    "import pandas as pd\n",
    "import os\n",
    "\n",
    "ruta = os.path.join(os.getcwd(), '..', 'src', 'datos', 'eventos_partidas.csv')\n",
    "\n",
    "data_set = pd.read_csv(ruta, encoding='utf-8')"
   ]
  },
  {
   "cell_type": "markdown",
   "metadata": {},
   "source": [
    "Ahora hago el calculo obteniendo la cantidad de intentos por usuario y la cantidad de exitos por usuario"
   ]
  },
  {
   "cell_type": "code",
   "execution_count": 3,
   "metadata": {},
   "outputs": [
    {
     "name": "stdout",
     "output_type": "stream",
     "text": [
      "un_nick %23.333333333333332\n",
      "whatsername %16.0\n"
     ]
    }
   ],
   "source": [
    "intentos = data_set[data_set[\"evento\"] == 'intento']\n",
    "exitos = data_set[data_set[\"estado\"] == 'ok']\n",
    "\n",
    "intentos_x_usuarie = intentos.groupby([\"usuarie\"]).size()\n",
    "exitos_x_usuarie = exitos.groupby([\"usuarie\"]).size()\n",
    "\n",
    "for usuario in intentos_x_usuarie.keys():\n",
    "    porcentaje = (exitos_x_usuarie[usuario] / intentos_x_usuarie[usuario]) * 100\n",
    "    print(usuario, \"%\" + str(porcentaje))"
   ]
  }
 ],
 "metadata": {
  "kernelspec": {
   "display_name": "Python 3.10.4 ('venv': venv)",
   "language": "python",
   "name": "python3"
  },
  "language_info": {
   "codemirror_mode": {
    "name": "ipython",
    "version": 3
   },
   "file_extension": ".py",
   "mimetype": "text/x-python",
   "name": "python",
   "nbconvert_exporter": "python",
   "pygments_lexer": "ipython3",
   "version": "3.10.4"
  },
  "orig_nbformat": 4,
  "vscode": {
   "interpreter": {
    "hash": "bfb1119d74637becc52ba92ae280a3e347c80b09a27d9ac0dc93d52677b7fdd3"
   }
  }
 },
 "nbformat": 4,
 "nbformat_minor": 2
}
