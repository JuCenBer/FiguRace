{
 "cells": [
  {
   "cell_type": "markdown",
   "metadata": {},
   "source": [
    "● Gráfico que muestre el porcentaje de partidas finalizadas según género.\n",
    "Primero importo las librerias necesarias para obtener la estadistica y abro los archivos"
   ]
  },
  {
   "cell_type": "code",
   "execution_count": 2,
   "metadata": {},
   "outputs": [],
   "source": [
    "from matplotlib import pyplot as plt\n",
    "import pandas as pd\n",
    "import os\n",
    "import json\n",
    "\n",
    "#Abro los eventos\n",
    "ruta = os.path.join(os.getcwd(), '..', 'src', 'datos', 'eventos_partidas.csv')\n",
    "data_set = pd.read_csv(ruta, encoding='utf-8')\n",
    "\n",
    "#Abro los perfiles\n",
    "with open(os.path.join(os.getcwd(), \"..\", \"src\", \"datos\", \"perfiles.json\"), \"r\", encoding='utf-8') as perfiles:\n",
    "    jugadores = json.load(perfiles)\n"
   ]
  },
  {
   "cell_type": "markdown",
   "metadata": {},
   "source": [
    "Obtengo los usuarios que finalizaron y obtengo el genero de los usuarios, al recorrer las partidas finalizadas aumento los contadores"
   ]
  },
  {
   "cell_type": "code",
   "execution_count": 3,
   "metadata": {},
   "outputs": [],
   "source": [
    "#Obtengo los eventos finalizados por usuario\n",
    "usuarios_fin = data_set.groupby([\"estado\", \"usuarie\"])[\"usuarie\"].count()\n",
    "usuarios_fin = usuarios_fin[\"finalizado\"]\n",
    "#print(usuarios_fin)\n",
    "\n",
    "#Obtengo los usuarios y sus generos\n",
    "usuarios = {}\n",
    "for usuario in usuarios_fin.keys():\n",
    "    usuarios.update({usuario:\"\"})\n",
    "\n",
    "for jugador in jugadores:\n",
    "    for usuario in usuarios:\n",
    "        if(jugador[\"nick\"] == usuario):\n",
    "            usuarios[usuario] = jugador[\"genero\"]\n",
    "\n",
    "#Actualizo la cantidad de cada genero\n",
    "cant_hombres = 0\n",
    "cant_mujeres = 0\n",
    "cant_nobinario = 0\n",
    "\n",
    "for usuario in usuarios_fin.keys():\n",
    "    if(usuarios[usuario] == \"Hombre\"):\n",
    "        cant_hombres+= usuarios_fin[usuario]\n",
    "    if(usuarios[usuario] == \"No Binario\"):\n",
    "        cant_nobinario+= usuarios_fin[usuario]\n",
    "    if(usuarios[usuario] == \"Mujer\"):\n",
    "        cant_mujeres+= usuarios_fin[usuario]\n"
   ]
  },
  {
   "cell_type": "markdown",
   "metadata": {},
   "source": [
    "El siguiente bloque de codigo es la configuracion para el grafico"
   ]
  },
  {
   "cell_type": "code",
   "execution_count": 5,
   "metadata": {},
   "outputs": [
    {
     "name": "stderr",
     "output_type": "stream",
     "text": [
      "e:\\Escritorio\\Academico\\Analista Programador Universitario\\Semestre 3\\Seminario Python\\Proyecto Integrador\\grupo36\\venv\\lib\\site-packages\\matplotlib\\axes\\_axes.py:3050: RuntimeWarning: invalid value encountered in true_divide\n",
      "  x = x / sx\n"
     ]
    },
    {
     "ename": "ValueError",
     "evalue": "cannot convert float NaN to integer",
     "output_type": "error",
     "traceback": [
      "\u001b[1;31m---------------------------------------------------------------------------\u001b[0m",
      "\u001b[1;31mValueError\u001b[0m                                Traceback (most recent call last)",
      "\u001b[1;32me:\\Escritorio\\Academico\\Analista Programador Universitario\\Semestre 3\\Seminario Python\\Proyecto Integrador\\grupo36\\graficos\\fin_x_genero.ipynb Cell 6'\u001b[0m in \u001b[0;36m<cell line: 7>\u001b[1;34m()\u001b[0m\n\u001b[0;32m      <a href='vscode-notebook-cell:/e%3A/Escritorio/Academico/Analista%20Programador%20Universitario/Semestre%203/Seminario%20Python/Proyecto%20Integrador/grupo36/graficos/fin_x_genero.ipynb#ch0000005?line=3'>4</a>\u001b[0m data_dibujo \u001b[39m=\u001b[39m [cant_hombres, cant_mujeres, cant_nobinario]\n\u001b[0;32m      <a href='vscode-notebook-cell:/e%3A/Escritorio/Academico/Analista%20Programador%20Universitario/Semestre%203/Seminario%20Python/Proyecto%20Integrador/grupo36/graficos/fin_x_genero.ipynb#ch0000005?line=4'>5</a>\u001b[0m explode \u001b[39m=\u001b[39m (\u001b[39m0.1\u001b[39m, \u001b[39m0.1\u001b[39m, \u001b[39m0.1\u001b[39m)\n\u001b[1;32m----> <a href='vscode-notebook-cell:/e%3A/Escritorio/Academico/Analista%20Programador%20Universitario/Semestre%203/Seminario%20Python/Proyecto%20Integrador/grupo36/graficos/fin_x_genero.ipynb#ch0000005?line=6'>7</a>\u001b[0m plt\u001b[39m.\u001b[39;49mpie(data_dibujo, labels\u001b[39m=\u001b[39;49metiquetas, autopct\u001b[39m=\u001b[39;49m\u001b[39m'\u001b[39;49m\u001b[39m%1.2f\u001b[39;49;00m\u001b[39m%%\u001b[39;49;00m\u001b[39m'\u001b[39;49m, shadow\u001b[39m=\u001b[39;49m\u001b[39mTrue\u001b[39;49;00m, startangle\u001b[39m=\u001b[39;49m\u001b[39m120\u001b[39;49m, labeldistance\u001b[39m=\u001b[39;49m \u001b[39m1.2\u001b[39;49m)\n\u001b[0;32m      <a href='vscode-notebook-cell:/e%3A/Escritorio/Academico/Analista%20Programador%20Universitario/Semestre%203/Seminario%20Python/Proyecto%20Integrador/grupo36/graficos/fin_x_genero.ipynb#ch0000005?line=7'>8</a>\u001b[0m plt\u001b[39m.\u001b[39maxis(\u001b[39m'\u001b[39m\u001b[39mequal\u001b[39m\u001b[39m'\u001b[39m) \n\u001b[0;32m      <a href='vscode-notebook-cell:/e%3A/Escritorio/Academico/Analista%20Programador%20Universitario/Semestre%203/Seminario%20Python/Proyecto%20Integrador/grupo36/graficos/fin_x_genero.ipynb#ch0000005?line=8'>9</a>\u001b[0m plt\u001b[39m.\u001b[39mlegend(etiquetas)\n",
      "File \u001b[1;32me:\\Escritorio\\Academico\\Analista Programador Universitario\\Semestre 3\\Seminario Python\\Proyecto Integrador\\grupo36\\venv\\lib\\site-packages\\matplotlib\\pyplot.py:2756\u001b[0m, in \u001b[0;36mpie\u001b[1;34m(x, explode, labels, colors, autopct, pctdistance, shadow, labeldistance, startangle, radius, counterclock, wedgeprops, textprops, center, frame, rotatelabels, normalize, data)\u001b[0m\n\u001b[0;32m   2749\u001b[0m \u001b[39m@_copy_docstring_and_deprecators\u001b[39m(Axes\u001b[39m.\u001b[39mpie)\n\u001b[0;32m   2750\u001b[0m \u001b[39mdef\u001b[39;00m \u001b[39mpie\u001b[39m(\n\u001b[0;32m   2751\u001b[0m         x, explode\u001b[39m=\u001b[39m\u001b[39mNone\u001b[39;00m, labels\u001b[39m=\u001b[39m\u001b[39mNone\u001b[39;00m, colors\u001b[39m=\u001b[39m\u001b[39mNone\u001b[39;00m, autopct\u001b[39m=\u001b[39m\u001b[39mNone\u001b[39;00m,\n\u001b[1;32m   (...)\u001b[0m\n\u001b[0;32m   2754\u001b[0m         textprops\u001b[39m=\u001b[39m\u001b[39mNone\u001b[39;00m, center\u001b[39m=\u001b[39m(\u001b[39m0\u001b[39m, \u001b[39m0\u001b[39m), frame\u001b[39m=\u001b[39m\u001b[39mFalse\u001b[39;00m,\n\u001b[0;32m   2755\u001b[0m         rotatelabels\u001b[39m=\u001b[39m\u001b[39mFalse\u001b[39;00m, \u001b[39m*\u001b[39m, normalize\u001b[39m=\u001b[39m\u001b[39mTrue\u001b[39;00m, data\u001b[39m=\u001b[39m\u001b[39mNone\u001b[39;00m):\n\u001b[1;32m-> 2756\u001b[0m     \u001b[39mreturn\u001b[39;00m gca()\u001b[39m.\u001b[39mpie(\n\u001b[0;32m   2757\u001b[0m         x, explode\u001b[39m=\u001b[39mexplode, labels\u001b[39m=\u001b[39mlabels, colors\u001b[39m=\u001b[39mcolors,\n\u001b[0;32m   2758\u001b[0m         autopct\u001b[39m=\u001b[39mautopct, pctdistance\u001b[39m=\u001b[39mpctdistance, shadow\u001b[39m=\u001b[39mshadow,\n\u001b[0;32m   2759\u001b[0m         labeldistance\u001b[39m=\u001b[39mlabeldistance, startangle\u001b[39m=\u001b[39mstartangle,\n\u001b[0;32m   2760\u001b[0m         radius\u001b[39m=\u001b[39mradius, counterclock\u001b[39m=\u001b[39mcounterclock,\n\u001b[0;32m   2761\u001b[0m         wedgeprops\u001b[39m=\u001b[39mwedgeprops, textprops\u001b[39m=\u001b[39mtextprops, center\u001b[39m=\u001b[39mcenter,\n\u001b[0;32m   2762\u001b[0m         frame\u001b[39m=\u001b[39mframe, rotatelabels\u001b[39m=\u001b[39mrotatelabels, normalize\u001b[39m=\u001b[39mnormalize,\n\u001b[0;32m   2763\u001b[0m         \u001b[39m*\u001b[39m\u001b[39m*\u001b[39m({\u001b[39m\"\u001b[39m\u001b[39mdata\u001b[39m\u001b[39m\"\u001b[39m: data} \u001b[39mif\u001b[39;00m data \u001b[39mis\u001b[39;00m \u001b[39mnot\u001b[39;00m \u001b[39mNone\u001b[39;00m \u001b[39melse\u001b[39;00m {}))\n",
      "File \u001b[1;32me:\\Escritorio\\Academico\\Analista Programador Universitario\\Semestre 3\\Seminario Python\\Proyecto Integrador\\grupo36\\venv\\lib\\site-packages\\matplotlib\\__init__.py:1412\u001b[0m, in \u001b[0;36m_preprocess_data.<locals>.inner\u001b[1;34m(ax, data, *args, **kwargs)\u001b[0m\n\u001b[0;32m   1409\u001b[0m \u001b[39m@functools\u001b[39m\u001b[39m.\u001b[39mwraps(func)\n\u001b[0;32m   1410\u001b[0m \u001b[39mdef\u001b[39;00m \u001b[39minner\u001b[39m(ax, \u001b[39m*\u001b[39margs, data\u001b[39m=\u001b[39m\u001b[39mNone\u001b[39;00m, \u001b[39m*\u001b[39m\u001b[39m*\u001b[39mkwargs):\n\u001b[0;32m   1411\u001b[0m     \u001b[39mif\u001b[39;00m data \u001b[39mis\u001b[39;00m \u001b[39mNone\u001b[39;00m:\n\u001b[1;32m-> 1412\u001b[0m         \u001b[39mreturn\u001b[39;00m func(ax, \u001b[39m*\u001b[39m\u001b[39mmap\u001b[39m(sanitize_sequence, args), \u001b[39m*\u001b[39m\u001b[39m*\u001b[39mkwargs)\n\u001b[0;32m   1414\u001b[0m     bound \u001b[39m=\u001b[39m new_sig\u001b[39m.\u001b[39mbind(ax, \u001b[39m*\u001b[39margs, \u001b[39m*\u001b[39m\u001b[39m*\u001b[39mkwargs)\n\u001b[0;32m   1415\u001b[0m     auto_label \u001b[39m=\u001b[39m (bound\u001b[39m.\u001b[39marguments\u001b[39m.\u001b[39mget(label_namer)\n\u001b[0;32m   1416\u001b[0m                   \u001b[39mor\u001b[39;00m bound\u001b[39m.\u001b[39mkwargs\u001b[39m.\u001b[39mget(label_namer))\n",
      "File \u001b[1;32me:\\Escritorio\\Academico\\Analista Programador Universitario\\Semestre 3\\Seminario Python\\Proyecto Integrador\\grupo36\\venv\\lib\\site-packages\\matplotlib\\axes\\_axes.py:3092\u001b[0m, in \u001b[0;36mAxes.pie\u001b[1;34m(self, x, explode, labels, colors, autopct, pctdistance, shadow, labeldistance, startangle, radius, counterclock, wedgeprops, textprops, center, frame, rotatelabels, normalize)\u001b[0m\n\u001b[0;32m   3089\u001b[0m x \u001b[39m+\u001b[39m\u001b[39m=\u001b[39m expl \u001b[39m*\u001b[39m math\u001b[39m.\u001b[39mcos(thetam)\n\u001b[0;32m   3090\u001b[0m y \u001b[39m+\u001b[39m\u001b[39m=\u001b[39m expl \u001b[39m*\u001b[39m math\u001b[39m.\u001b[39msin(thetam)\n\u001b[1;32m-> 3092\u001b[0m w \u001b[39m=\u001b[39m mpatches\u001b[39m.\u001b[39;49mWedge((x, y), radius, \u001b[39m360.\u001b[39;49m \u001b[39m*\u001b[39;49m \u001b[39mmin\u001b[39;49m(theta1, theta2),\n\u001b[0;32m   3093\u001b[0m                    \u001b[39m360.\u001b[39;49m \u001b[39m*\u001b[39;49m \u001b[39mmax\u001b[39;49m(theta1, theta2),\n\u001b[0;32m   3094\u001b[0m                    facecolor\u001b[39m=\u001b[39;49mget_next_color(),\n\u001b[0;32m   3095\u001b[0m                    clip_on\u001b[39m=\u001b[39;49m\u001b[39mFalse\u001b[39;49;00m,\n\u001b[0;32m   3096\u001b[0m                    label\u001b[39m=\u001b[39;49mlabel)\n\u001b[0;32m   3097\u001b[0m w\u001b[39m.\u001b[39mset(\u001b[39m*\u001b[39m\u001b[39m*\u001b[39mwedgeprops)\n\u001b[0;32m   3098\u001b[0m slices\u001b[39m.\u001b[39mappend(w)\n",
      "File \u001b[1;32me:\\Escritorio\\Academico\\Analista Programador Universitario\\Semestre 3\\Seminario Python\\Proyecto Integrador\\grupo36\\venv\\lib\\site-packages\\matplotlib\\patches.py:1164\u001b[0m, in \u001b[0;36mWedge.__init__\u001b[1;34m(self, center, r, theta1, theta2, width, **kwargs)\u001b[0m\n\u001b[0;32m   1162\u001b[0m \u001b[39mself\u001b[39m\u001b[39m.\u001b[39mtheta1, \u001b[39mself\u001b[39m\u001b[39m.\u001b[39mtheta2 \u001b[39m=\u001b[39m theta1, theta2\n\u001b[0;32m   1163\u001b[0m \u001b[39mself\u001b[39m\u001b[39m.\u001b[39m_patch_transform \u001b[39m=\u001b[39m transforms\u001b[39m.\u001b[39mIdentityTransform()\n\u001b[1;32m-> 1164\u001b[0m \u001b[39mself\u001b[39;49m\u001b[39m.\u001b[39;49m_recompute_path()\n",
      "File \u001b[1;32me:\\Escritorio\\Academico\\Analista Programador Universitario\\Semestre 3\\Seminario Python\\Proyecto Integrador\\grupo36\\venv\\lib\\site-packages\\matplotlib\\patches.py:1176\u001b[0m, in \u001b[0;36mWedge._recompute_path\u001b[1;34m(self)\u001b[0m\n\u001b[0;32m   1173\u001b[0m     connector \u001b[39m=\u001b[39m Path\u001b[39m.\u001b[39mLINETO\n\u001b[0;32m   1175\u001b[0m \u001b[39m# Form the outer ring\u001b[39;00m\n\u001b[1;32m-> 1176\u001b[0m arc \u001b[39m=\u001b[39m Path\u001b[39m.\u001b[39;49marc(theta1, theta2)\n\u001b[0;32m   1178\u001b[0m \u001b[39mif\u001b[39;00m \u001b[39mself\u001b[39m\u001b[39m.\u001b[39mwidth \u001b[39mis\u001b[39;00m \u001b[39mnot\u001b[39;00m \u001b[39mNone\u001b[39;00m:\n\u001b[0;32m   1179\u001b[0m     \u001b[39m# Partial annulus needs to draw the outer ring\u001b[39;00m\n\u001b[0;32m   1180\u001b[0m     \u001b[39m# followed by a reversed and scaled inner ring\u001b[39;00m\n\u001b[0;32m   1181\u001b[0m     v1 \u001b[39m=\u001b[39m arc\u001b[39m.\u001b[39mvertices\n",
      "File \u001b[1;32me:\\Escritorio\\Academico\\Analista Programador Universitario\\Semestre 3\\Seminario Python\\Proyecto Integrador\\grupo36\\venv\\lib\\site-packages\\matplotlib\\path.py:947\u001b[0m, in \u001b[0;36mPath.arc\u001b[1;34m(cls, theta1, theta2, n, is_wedge)\u001b[0m\n\u001b[0;32m    945\u001b[0m \u001b[39m# number of curve segments to make\u001b[39;00m\n\u001b[0;32m    946\u001b[0m \u001b[39mif\u001b[39;00m n \u001b[39mis\u001b[39;00m \u001b[39mNone\u001b[39;00m:\n\u001b[1;32m--> 947\u001b[0m     n \u001b[39m=\u001b[39m \u001b[39mint\u001b[39;49m(\u001b[39m2\u001b[39;49m \u001b[39m*\u001b[39;49m\u001b[39m*\u001b[39;49m np\u001b[39m.\u001b[39;49mceil((eta2 \u001b[39m-\u001b[39;49m eta1) \u001b[39m/\u001b[39;49m halfpi))\n\u001b[0;32m    948\u001b[0m \u001b[39mif\u001b[39;00m n \u001b[39m<\u001b[39m \u001b[39m1\u001b[39m:\n\u001b[0;32m    949\u001b[0m     \u001b[39mraise\u001b[39;00m \u001b[39mValueError\u001b[39;00m(\u001b[39m\"\u001b[39m\u001b[39mn must be >= 1 or None\u001b[39m\u001b[39m\"\u001b[39m)\n",
      "\u001b[1;31mValueError\u001b[0m: cannot convert float NaN to integer"
     ]
    },
    {
     "name": "stderr",
     "output_type": "stream",
     "text": [
      "posx and posy should be finite values\n",
      "posx and posy should be finite values\n"
     ]
    },
    {
     "ename": "ValueError",
     "evalue": "need at least one array to concatenate",
     "output_type": "error",
     "traceback": [
      "\u001b[1;31m---------------------------------------------------------------------------\u001b[0m",
      "\u001b[1;31mValueError\u001b[0m                                Traceback (most recent call last)",
      "File \u001b[1;32me:\\Escritorio\\Academico\\Analista Programador Universitario\\Semestre 3\\Seminario Python\\Proyecto Integrador\\grupo36\\venv\\lib\\site-packages\\IPython\\core\\formatters.py:339\u001b[0m, in \u001b[0;36mBaseFormatter.__call__\u001b[1;34m(self, obj)\u001b[0m\n\u001b[0;32m    337\u001b[0m     \u001b[39mpass\u001b[39;00m\n\u001b[0;32m    338\u001b[0m \u001b[39melse\u001b[39;00m:\n\u001b[1;32m--> 339\u001b[0m     \u001b[39mreturn\u001b[39;00m printer(obj)\n\u001b[0;32m    340\u001b[0m \u001b[39m# Finally look for special method names\u001b[39;00m\n\u001b[0;32m    341\u001b[0m method \u001b[39m=\u001b[39m get_real_method(obj, \u001b[39mself\u001b[39m\u001b[39m.\u001b[39mprint_method)\n",
      "File \u001b[1;32me:\\Escritorio\\Academico\\Analista Programador Universitario\\Semestre 3\\Seminario Python\\Proyecto Integrador\\grupo36\\venv\\lib\\site-packages\\IPython\\core\\pylabtools.py:151\u001b[0m, in \u001b[0;36mprint_figure\u001b[1;34m(fig, fmt, bbox_inches, base64, **kwargs)\u001b[0m\n\u001b[0;32m    148\u001b[0m     \u001b[39mfrom\u001b[39;00m \u001b[39mmatplotlib\u001b[39;00m\u001b[39m.\u001b[39;00m\u001b[39mbackend_bases\u001b[39;00m \u001b[39mimport\u001b[39;00m FigureCanvasBase\n\u001b[0;32m    149\u001b[0m     FigureCanvasBase(fig)\n\u001b[1;32m--> 151\u001b[0m fig\u001b[39m.\u001b[39mcanvas\u001b[39m.\u001b[39mprint_figure(bytes_io, \u001b[39m*\u001b[39m\u001b[39m*\u001b[39mkw)\n\u001b[0;32m    152\u001b[0m data \u001b[39m=\u001b[39m bytes_io\u001b[39m.\u001b[39mgetvalue()\n\u001b[0;32m    153\u001b[0m \u001b[39mif\u001b[39;00m fmt \u001b[39m==\u001b[39m \u001b[39m'\u001b[39m\u001b[39msvg\u001b[39m\u001b[39m'\u001b[39m:\n",
      "File \u001b[1;32me:\\Escritorio\\Academico\\Analista Programador Universitario\\Semestre 3\\Seminario Python\\Proyecto Integrador\\grupo36\\venv\\lib\\site-packages\\matplotlib\\backend_bases.py:2299\u001b[0m, in \u001b[0;36mFigureCanvasBase.print_figure\u001b[1;34m(self, filename, dpi, facecolor, edgecolor, orientation, format, bbox_inches, pad_inches, bbox_extra_artists, backend, **kwargs)\u001b[0m\n\u001b[0;32m   2297\u001b[0m \u001b[39mif\u001b[39;00m bbox_inches:\n\u001b[0;32m   2298\u001b[0m     \u001b[39mif\u001b[39;00m bbox_inches \u001b[39m==\u001b[39m \u001b[39m\"\u001b[39m\u001b[39mtight\u001b[39m\u001b[39m\"\u001b[39m:\n\u001b[1;32m-> 2299\u001b[0m         bbox_inches \u001b[39m=\u001b[39m \u001b[39mself\u001b[39;49m\u001b[39m.\u001b[39;49mfigure\u001b[39m.\u001b[39;49mget_tightbbox(\n\u001b[0;32m   2300\u001b[0m             renderer, bbox_extra_artists\u001b[39m=\u001b[39;49mbbox_extra_artists)\n\u001b[0;32m   2301\u001b[0m         \u001b[39mif\u001b[39;00m pad_inches \u001b[39mis\u001b[39;00m \u001b[39mNone\u001b[39;00m:\n\u001b[0;32m   2302\u001b[0m             pad_inches \u001b[39m=\u001b[39m rcParams[\u001b[39m'\u001b[39m\u001b[39msavefig.pad_inches\u001b[39m\u001b[39m'\u001b[39m]\n",
      "File \u001b[1;32me:\\Escritorio\\Academico\\Analista Programador Universitario\\Semestre 3\\Seminario Python\\Proyecto Integrador\\grupo36\\venv\\lib\\site-packages\\matplotlib\\figure.py:1684\u001b[0m, in \u001b[0;36mFigureBase.get_tightbbox\u001b[1;34m(self, renderer, bbox_extra_artists)\u001b[0m\n\u001b[0;32m   1681\u001b[0m     artists \u001b[39m=\u001b[39m bbox_extra_artists\n\u001b[0;32m   1683\u001b[0m \u001b[39mfor\u001b[39;00m a \u001b[39min\u001b[39;00m artists:\n\u001b[1;32m-> 1684\u001b[0m     bbox \u001b[39m=\u001b[39m a\u001b[39m.\u001b[39;49mget_tightbbox(renderer)\n\u001b[0;32m   1685\u001b[0m     \u001b[39mif\u001b[39;00m bbox \u001b[39mis\u001b[39;00m \u001b[39mnot\u001b[39;00m \u001b[39mNone\u001b[39;00m \u001b[39mand\u001b[39;00m (bbox\u001b[39m.\u001b[39mwidth \u001b[39m!=\u001b[39m \u001b[39m0\u001b[39m \u001b[39mor\u001b[39;00m bbox\u001b[39m.\u001b[39mheight \u001b[39m!=\u001b[39m \u001b[39m0\u001b[39m):\n\u001b[0;32m   1686\u001b[0m         bb\u001b[39m.\u001b[39mappend(bbox)\n",
      "File \u001b[1;32me:\\Escritorio\\Academico\\Analista Programador Universitario\\Semestre 3\\Seminario Python\\Proyecto Integrador\\grupo36\\venv\\lib\\site-packages\\matplotlib\\axes\\_base.py:4675\u001b[0m, in \u001b[0;36m_AxesBase.get_tightbbox\u001b[1;34m(self, renderer, call_axes_locator, bbox_extra_artists, for_layout_only)\u001b[0m\n\u001b[0;32m   4671\u001b[0m     \u001b[39mif\u001b[39;00m np\u001b[39m.\u001b[39mall(clip_extent\u001b[39m.\u001b[39mextents \u001b[39m==\u001b[39m axbbox\u001b[39m.\u001b[39mextents):\n\u001b[0;32m   4672\u001b[0m         \u001b[39m# clip extent is inside the Axes bbox so don't check\u001b[39;00m\n\u001b[0;32m   4673\u001b[0m         \u001b[39m# this artist\u001b[39;00m\n\u001b[0;32m   4674\u001b[0m         \u001b[39mcontinue\u001b[39;00m\n\u001b[1;32m-> 4675\u001b[0m bbox \u001b[39m=\u001b[39m a\u001b[39m.\u001b[39;49mget_tightbbox(renderer)\n\u001b[0;32m   4676\u001b[0m \u001b[39mif\u001b[39;00m (bbox \u001b[39mis\u001b[39;00m \u001b[39mnot\u001b[39;00m \u001b[39mNone\u001b[39;00m\n\u001b[0;32m   4677\u001b[0m         \u001b[39mand\u001b[39;00m \u001b[39m0\u001b[39m \u001b[39m<\u001b[39m bbox\u001b[39m.\u001b[39mwidth \u001b[39m<\u001b[39m np\u001b[39m.\u001b[39minf\n\u001b[0;32m   4678\u001b[0m         \u001b[39mand\u001b[39;00m \u001b[39m0\u001b[39m \u001b[39m<\u001b[39m bbox\u001b[39m.\u001b[39mheight \u001b[39m<\u001b[39m np\u001b[39m.\u001b[39minf):\n\u001b[0;32m   4679\u001b[0m     bb\u001b[39m.\u001b[39mappend(bbox)\n",
      "File \u001b[1;32me:\\Escritorio\\Academico\\Analista Programador Universitario\\Semestre 3\\Seminario Python\\Proyecto Integrador\\grupo36\\venv\\lib\\site-packages\\matplotlib\\artist.py:355\u001b[0m, in \u001b[0;36mArtist.get_tightbbox\u001b[1;34m(self, renderer)\u001b[0m\n\u001b[0;32m    340\u001b[0m \u001b[39mdef\u001b[39;00m \u001b[39mget_tightbbox\u001b[39m(\u001b[39mself\u001b[39m, renderer):\n\u001b[0;32m    341\u001b[0m     \u001b[39m\"\"\"\u001b[39;00m\n\u001b[0;32m    342\u001b[0m \u001b[39m    Like `.Artist.get_window_extent`, but includes any clipping.\u001b[39;00m\n\u001b[0;32m    343\u001b[0m \n\u001b[1;32m   (...)\u001b[0m\n\u001b[0;32m    353\u001b[0m \u001b[39m        The enclosing bounding box (in figure pixel coordinates).\u001b[39;00m\n\u001b[0;32m    354\u001b[0m \u001b[39m    \"\"\"\u001b[39;00m\n\u001b[1;32m--> 355\u001b[0m     bbox \u001b[39m=\u001b[39m \u001b[39mself\u001b[39;49m\u001b[39m.\u001b[39;49mget_window_extent(renderer)\n\u001b[0;32m    356\u001b[0m     \u001b[39mif\u001b[39;00m \u001b[39mself\u001b[39m\u001b[39m.\u001b[39mget_clip_on():\n\u001b[0;32m    357\u001b[0m         clip_box \u001b[39m=\u001b[39m \u001b[39mself\u001b[39m\u001b[39m.\u001b[39mget_clip_box()\n",
      "File \u001b[1;32me:\\Escritorio\\Academico\\Analista Programador Universitario\\Semestre 3\\Seminario Python\\Proyecto Integrador\\grupo36\\venv\\lib\\site-packages\\matplotlib\\patches.py:629\u001b[0m, in \u001b[0;36mPatch.get_window_extent\u001b[1;34m(self, renderer)\u001b[0m\n\u001b[0;32m    628\u001b[0m \u001b[39mdef\u001b[39;00m \u001b[39mget_window_extent\u001b[39m(\u001b[39mself\u001b[39m, renderer\u001b[39m=\u001b[39m\u001b[39mNone\u001b[39;00m):\n\u001b[1;32m--> 629\u001b[0m     \u001b[39mreturn\u001b[39;00m \u001b[39mself\u001b[39;49m\u001b[39m.\u001b[39;49mget_path()\u001b[39m.\u001b[39;49mget_extents(\u001b[39mself\u001b[39;49m\u001b[39m.\u001b[39;49mget_transform())\n",
      "File \u001b[1;32me:\\Escritorio\\Academico\\Analista Programador Universitario\\Semestre 3\\Seminario Python\\Proyecto Integrador\\grupo36\\venv\\lib\\site-packages\\matplotlib\\path.py:631\u001b[0m, in \u001b[0;36mPath.get_extents\u001b[1;34m(self, transform, **kwargs)\u001b[0m\n\u001b[0;32m    629\u001b[0m         \u001b[39m# as can the ends of the curve\u001b[39;00m\n\u001b[0;32m    630\u001b[0m         xys\u001b[39m.\u001b[39mappend(curve([\u001b[39m0\u001b[39m, \u001b[39m*\u001b[39mdzeros, \u001b[39m1\u001b[39m]))\n\u001b[1;32m--> 631\u001b[0m     xys \u001b[39m=\u001b[39m np\u001b[39m.\u001b[39;49mconcatenate(xys)\n\u001b[0;32m    632\u001b[0m \u001b[39mif\u001b[39;00m \u001b[39mlen\u001b[39m(xys):\n\u001b[0;32m    633\u001b[0m     \u001b[39mreturn\u001b[39;00m Bbox([xys\u001b[39m.\u001b[39mmin(axis\u001b[39m=\u001b[39m\u001b[39m0\u001b[39m), xys\u001b[39m.\u001b[39mmax(axis\u001b[39m=\u001b[39m\u001b[39m0\u001b[39m)])\n",
      "File \u001b[1;32m<__array_function__ internals>:180\u001b[0m, in \u001b[0;36mconcatenate\u001b[1;34m(*args, **kwargs)\u001b[0m\n",
      "\u001b[1;31mValueError\u001b[0m: need at least one array to concatenate"
     ]
    },
    {
     "data": {
      "text/plain": [
       "<Figure size 432x288 with 1 Axes>"
      ]
     },
     "metadata": {
      "needs_background": "light"
     },
     "output_type": "display_data"
    }
   ],
   "source": [
    "#A partir de aca es para hacer la torta\n",
    "etiquetas = [\"Hombres\", \"Mujeres\", \"No Binario\"]\n",
    "\n",
    "data_dibujo = [cant_hombres, cant_mujeres, cant_nobinario]\n",
    "explode = (0.1, 0.1, 0.1)\n",
    "\n",
    "plt.pie(data_dibujo, explode=explode, labels=etiquetas, autopct='%1.2f%%', shadow=True, startangle=120, labeldistance= 1.2)\n",
    "plt.axis('equal') \n",
    "plt.legend(etiquetas)\n",
    "\n",
    "plt.title(\"Porcentaje de partidas finalizadas por genero\")\n",
    "plt.show()"
   ]
  }
 ],
 "metadata": {
  "kernelspec": {
   "display_name": "Python 3.10.4 ('venv': venv)",
   "language": "python",
   "name": "python3"
  },
  "language_info": {
   "codemirror_mode": {
    "name": "ipython",
    "version": 3
   },
   "file_extension": ".py",
   "mimetype": "text/x-python",
   "name": "python",
   "nbconvert_exporter": "python",
   "pygments_lexer": "ipython3",
   "version": "3.10.4"
  },
  "orig_nbformat": 4,
  "vscode": {
   "interpreter": {
    "hash": "bfb1119d74637becc52ba92ae280a3e347c80b09a27d9ac0dc93d52677b7fdd3"
   }
  }
 },
 "nbformat": 4,
 "nbformat_minor": 2
}
