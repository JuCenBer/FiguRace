{
 "cells": [
  {
   "cell_type": "markdown",
   "metadata": {},
   "source": [
    "# Duración total de cada partida"
   ]
  },
  {
   "cell_type": "code",
   "execution_count": 1,
   "metadata": {},
   "outputs": [
    {
     "name": "stdout",
     "output_type": "stream",
     "text": [
      "Tiempo de partida ID 1: 3 segundos\n",
      "Tiempo de partida ID 2: 3 segundos\n",
      "Tiempo de partida ID 3: 5 segundos\n",
      "Tiempo de partida ID 4: 3 segundos\n",
      "Tiempo de partida ID 5: 2 segundos\n",
      "Tiempo de partida ID 6: 2 segundos\n",
      "Tiempo de partida ID 7: 3 segundos\n",
      "Tiempo de partida ID 8: 3 segundos\n",
      "Tiempo de partida ID 9: 2 segundos\n",
      "Tiempo de partida ID 10: 4 segundos\n",
      "Tiempo de partida ID 11: 2 segundos\n",
      "Tiempo de partida ID 12: 2 segundos\n",
      "Tiempo de partida ID 13: 1 segundos\n",
      "Tiempo de partida ID 14: 8 segundos\n",
      "Tiempo de partida ID 15: 9 segundos\n",
      "Tiempo de partida ID 16: 2 segundos\n",
      "Tiempo de partida ID 17: 2 segundos\n",
      "Tiempo de partida ID 18: 4 segundos\n",
      "Tiempo de partida ID 19: 27 segundos\n",
      "Tiempo de partida ID 20: 7 segundos\n"
     ]
    }
   ],
   "source": [
    "import pandas as pd\n",
    "import os\n",
    "\n",
    "ruta = os.path.join(os.getcwd(), '..', 'src', 'datos', 'eventos_partidas.csv')\n",
    "data_set = pd.read_csv(ruta, encoding='utf-8')\n",
    "\n",
    "data_set = data_set[[\"id\", \"timestamp\", \"evento\"]]\n",
    "data_set = data_set[(data_set[\"evento\"] == \"inicio_partida\") | (data_set[\"evento\"] == \"fin\")]\n",
    "\n",
    "cant_partidas = len(data_set)/2\n",
    "\n",
    "for i in range(1,len(data_set),2):\n",
    "    tiempo_partida = data_set.iloc[i][\"timestamp\"] - data_set.iloc[i-1][\"timestamp\"]\n",
    "    id = data_set.iloc[i][\"id\"]\n",
    "    print(f\"Tiempo de partida ID {id}: {tiempo_partida} segundos\")\n"
   ]
  }
 ],
 "metadata": {
  "kernelspec": {
   "display_name": "Python 3.9.7 ('base')",
   "language": "python",
   "name": "python3"
  },
  "language_info": {
   "codemirror_mode": {
    "name": "ipython",
    "version": 3
   },
   "file_extension": ".py",
   "mimetype": "text/x-python",
   "name": "python",
   "nbconvert_exporter": "python",
   "pygments_lexer": "ipython3",
   "version": "3.9.7"
  },
  "orig_nbformat": 4,
  "vscode": {
   "interpreter": {
    "hash": "e36174c3e4652f79e9f453622064d55f4342e480e5ebdc3d2400a9e848129485"
   }
  }
 },
 "nbformat": 4,
 "nbformat_minor": 2
}
