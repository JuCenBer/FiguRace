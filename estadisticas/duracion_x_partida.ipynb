{
 "cells": [
  {
   "cell_type": "markdown",
   "metadata": {},
   "source": [
    "# Duración total de cada partida"
   ]
  },
  {
   "cell_type": "code",
   "execution_count": 4,
   "metadata": {},
   "outputs": [
    {
     "data": {
      "image/png": "[encoded data removed]",
      "text/plain": [
       "<Figure size 432x288 with 1 Axes>"
      ]
     },
     "metadata": {
      "needs_background": "light"
     },
     "output_type": "display_data"
    }
   ],
   "source": [
    "import pandas as pd\n",
    "import os\n",
    "import matplotlib.pyplot as plt\n",
    "\n",
    "ruta = os.path.join(os.getcwd(), '..', 'src', 'datos', 'eventos_partidas.csv')\n",
    "data_set = pd.read_csv(ruta, encoding='utf-8')\n",
    "\n",
    "data_set = data_set[[\"id\", \"timestamp\", \"evento\"]]\n",
    "data_set = data_set[(data_set[\"evento\"] == \"inicio_partida\") | (data_set[\"evento\"] == \"fin\")]\n",
    "\n",
    "cant_partidas = len(data_set)/2\n",
    "ids= []\n",
    "tiempos= []\n",
    "for i in range(1,len(data_set),2):\n",
    "    tiempo_partida = data_set.iloc[i][\"timestamp\"] - data_set.iloc[i-1][\"timestamp\"]\n",
    "    id = data_set.iloc[i][\"id\"]\n",
    "    ids.append(id)\n",
    "    tiempos.append(tiempo_partida)\n",
    "    #print(f\"Tiempo de partida ID {id}: {tiempo_partida} segundos\")\n",
    "    \n",
    "plt.bar(ids,tiempos)\n",
    "plt.ylabel('Tiempo (s)')\n",
    "plt.title('Tiempos de las partidas')\n",
    "plt.show()"
   ]
  }
 ],
 "metadata": {
  "kernelspec": {
   "display_name": "Python 3 (ipykernel)",
   "language": "python",
   "name": "python3"
  },
  "language_info": {
   "codemirror_mode": {
    "name": "ipython",
    "version": 3
   },
   "file_extension": ".py",
   "mimetype": "text/x-python",
   "name": "python",
   "nbconvert_exporter": "python",
   "pygments_lexer": "ipython3",
   "version": "3.10.4"
  },
  "vscode": {
   "interpreter": {
    "hash": "e36174c3e4652f79e9f453622064d55f4342e480e5ebdc3d2400a9e848129485"
   }
  }
 },
 "nbformat": 4,
 "nbformat_minor": 2
}
