{
 "cells": [
  {
   "cell_type": "markdown",
   "metadata": {},
   "source": [
    "# Duración total de cada partida"
   ]
  },
  {
   "cell_type": "code",
   "execution_count": null,
   "metadata": {},
   "outputs": [],
   "source": [
    "import pandas as pd\n",
    "import os\n",
    "\n",
    "ruta = os.path.join(os.getcwd(), '..', 'src', 'datos', 'eventos_partidas.csv')\n",
    "data_set = pd.read_csv(ruta, encoding='utf-8')\n",
    "\n",
    "data_set = data_set[[\"id\", \"timestamp\", \"evento\"]]\n",
    "data_set = data_set[(data_set[\"evento\"] == \"inicio_partida\") | (data_set[\"evento\"] == \"fin\")]\n",
    "\n",
    "cant_partidas = len(data_set)/2\n",
    "\n",
    "for i in range(1,len(data_set),2):\n",
    "    tiempo_partida = data_set.iloc[i][\"timestamp\"] - data_set.iloc[i-1][\"timestamp\"]\n",
    "    id = data_set.iloc[i][\"id\"]\n",
    "    print(f\"Tiempo de partida ID {id}: {tiempo_partida} segundos\")\n"
   ]
  }
 ],
 "metadata": {
  "language_info": {
   "name": "python"
  },
  "orig_nbformat": 4
 },
 "nbformat": 4,
 "nbformat_minor": 2
}
