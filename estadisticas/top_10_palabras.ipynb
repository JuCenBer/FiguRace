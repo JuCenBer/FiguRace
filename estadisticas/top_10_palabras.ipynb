{
 "cells": [
  {
   "cell_type": "markdown",
   "metadata": {},
   "source": [
    "● Top 10 de palabras que se encuentran primero de todas las partidas.\n",
    "\n",
    "Primero importo las librerias necesarias para la estadistica y abro el archivo"
   ]
  },
  {
   "cell_type": "markdown",
   "metadata": {},
   "source": []
  },
  {
   "cell_type": "code",
   "execution_count": 1,
   "metadata": {},
   "outputs": [],
   "source": [
    "from matplotlib import pyplot as plt\n",
    "import pandas as pd\n",
    "import os\n",
    "\n",
    "ruta = os.path.join(os.getcwd(), '..', 'src', 'datos', 'eventos_partidas.csv')\n",
    "\n"
   ]
  },
  {
   "cell_type": "markdown",
   "metadata": {},
   "source": [
    "Una vez abierto el archivo consigo las respuestas correctas"
   ]
  },
  {
   "cell_type": "code",
   "execution_count": 2,
   "metadata": {},
   "outputs": [
    {
     "name": "stdout",
     "output_type": "stream",
     "text": [
      "17            Tinakula (Solomon Is.)\n",
      "101              The Wandering Earth\n",
      "105    The Day The Earth Stood Still\n",
      "70                Semeru (Indonesia)\n",
      "63               Sakura-Jima (Japan)\n",
      "103                     Pearl Harbor\n",
      "88             Pacific Rim: Uprising\n",
      "99                   P.S. I Love You\n",
      "44                       Lennart Thy\n",
      "123                  Lago San Martín\n",
      "Name: respuesta, dtype: object\n"
     ]
    }
   ],
   "source": [
    "data_set = pd.read_csv(ruta, encoding='utf-8')\n",
    "\n",
    "filas_respuestas_correctas = data_set[(data_set[\"texto_ingresado\"] == data_set[\"respuesta\"]) & (data_set[\"respuesta\"] != \"-\")]\n",
    "\n",
    "diez_palabras = filas_respuestas_correctas[\"respuesta\"].sort_values(ascending=False).head(10)\n",
    "\n",
    "print(diez_palabras)"
   ]
  }
 ],
 "metadata": {
  "kernelspec": {
   "display_name": "Python 3.10.4 ('venv': venv)",
   "language": "python",
   "name": "python3"
  },
  "language_info": {
   "codemirror_mode": {
    "name": "ipython",
    "version": 3
   },
   "file_extension": ".py",
   "mimetype": "text/x-python",
   "name": "python",
   "nbconvert_exporter": "python",
   "pygments_lexer": "ipython3",
   "version": "3.10.4"
  },
  "orig_nbformat": 4,
  "vscode": {
   "interpreter": {
    "hash": "bfb1119d74637becc52ba92ae280a3e347c80b09a27d9ac0dc93d52677b7fdd3"
   }
  }
 },
 "nbformat": 4,
 "nbformat_minor": 2
}
