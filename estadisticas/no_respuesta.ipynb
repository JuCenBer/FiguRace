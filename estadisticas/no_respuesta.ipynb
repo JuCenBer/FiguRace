{
 "cells": [
  {
   "cell_type": "markdown",
   "metadata": {},
   "source": [
    "● Cantidad de tarjetas para las que el usuarie no dió respuesta (timeout).\n",
    "Primero importo las librerias necesarias para obtener la estadistica"
   ]
  },
  {
   "cell_type": "code",
   "execution_count": 3,
   "metadata": {},
   "outputs": [],
   "source": [
    "import pandas as pd\n",
    "import os\n",
    "\n",
    "ruta = os.path.join(os.getcwd(), '..', 'src', 'datos', 'eventos_partidas.csv')\n",
    "\n",
    "data_set = pd.read_csv(ruta, encoding='utf-8')"
   ]
  },
  {
   "cell_type": "markdown",
   "metadata": {},
   "source": [
    "Obtengo las veces que hubo timeout y las ordeno en base a los usuarios"
   ]
  },
  {
   "cell_type": "code",
   "execution_count": 4,
   "metadata": {},
   "outputs": [],
   "source": [
    "timeout = data_set[data_set[\"estado\"] == 'timeout']\n",
    "\n",
    "timeout_x_usuarie = timeout.groupby([\"usuarie\"]).size()\n",
    "for usuarie in timeout_x_usuarie.keys():\n",
    "    print(\"El usuarie:\", usuarie, \"se quedo sin tiempo\",timeout_x_usuarie[usuarie], \"veces.\")"
   ]
  }
 ],
 "metadata": {
  "kernelspec": {
   "display_name": "Python 3.10.4 ('venv': venv)",
   "language": "python",
   "name": "python3"
  },
  "language_info": {
   "codemirror_mode": {
    "name": "ipython",
    "version": 3
   },
   "file_extension": ".py",
   "mimetype": "text/x-python",
   "name": "python",
   "nbconvert_exporter": "python",
   "pygments_lexer": "ipython3",
   "version": "3.10.4"
  },
  "orig_nbformat": 4,
  "vscode": {
   "interpreter": {
    "hash": "bfb1119d74637becc52ba92ae280a3e347c80b09a27d9ac0dc93d52677b7fdd3"
   }
  }
 },
 "nbformat": 4,
 "nbformat_minor": 2
}
