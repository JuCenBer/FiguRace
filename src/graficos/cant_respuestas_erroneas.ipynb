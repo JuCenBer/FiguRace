{
 "cells": [
  {
   "cell_type": "markdown",
   "metadata": {},
   "source": [
    "# Cantidad de tarjetas en las que el usuarie dió una respuesta errónea."
   ]
  },
  {
   "cell_type": "code",
   "execution_count": 10,
   "metadata": {},
   "outputs": [
    {
     "name": "stdout",
     "output_type": "stream",
     "text": [
      "usuarie\n",
      "un_nick        46\n",
      "whatsername    42\n",
      "Name: usuarie, dtype: int64\n",
      "El usuarie un_nick dio una respuesta erronea en 46 tarjetas\n",
      "El usuarie whatsername dio una respuesta erronea en 42 tarjetas\n"
     ]
    }
   ],
   "source": [
    "import pandas as pd\n",
    "import os\n",
    "\n",
    "ruta = os.path.join(os.getcwd(), '..', 'datos', 'eventos_partidas.csv')\n",
    "data_set = pd.read_csv(ruta, encoding='utf-8')\n",
    "\n",
    "dataset_errores = data_set[data_set[\"estado\"] == \"error\"]\n",
    "cant_respuestas_erroneas = dataset_errores.groupby([\"usuarie\"])[\"usuarie\"].count()\n",
    "\n",
    "for usuarie in cant_respuestas_erroneas.index:\n",
    "    print(f\"El usuarie {usuarie} dio una respuesta erronea en {cant_respuestas_erroneas[usuarie]} tarjetas\")\n"
   ]
  }
 ],
 "metadata": {
  "kernelspec": {
   "display_name": "Python 3.9.7 ('base')",
   "language": "python",
   "name": "python3"
  },
  "language_info": {
   "codemirror_mode": {
    "name": "ipython",
    "version": 3
   },
   "file_extension": ".py",
   "mimetype": "text/x-python",
   "name": "python",
   "nbconvert_exporter": "python",
   "pygments_lexer": "ipython3",
   "version": "3.9.7"
  },
  "orig_nbformat": 4,
  "vscode": {
   "interpreter": {
    "hash": "e36174c3e4652f79e9f453622064d55f4342e480e5ebdc3d2400a9e848129485"
   }
  }
 },
 "nbformat": 4,
 "nbformat_minor": 2
}
