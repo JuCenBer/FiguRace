{
 "cells": [
  {
   "cell_type": "markdown",
   "metadata": {},
   "source": [
    "# Cantidad de tarjetas en las que el usuarie dió una respuesta errónea."
   ]
  },
  {
   "cell_type": "code",
   "execution_count": 34,
   "metadata": {},
   "outputs": [
    {
     "name": "stdout",
     "output_type": "stream",
     "text": [
      "El usuarie holis dio una respuesta erronea en error tarjetas\n",
      "El usuarie uwu dio una respuesta erronea en error tarjetas\n"
     ]
    }
   ],
   "source": [
    "import pandas as pd\n",
    "import os\n",
    "\n",
    "ruta = os.path.join(os.getcwd(), '..', 'datos', 'eventos_partidas.csv')\n",
    "data_set = pd.read_csv(ruta, encoding='utf-8')\n",
    "\n",
    "data_set = data_set[[\"usuarie\", \"estado\"]]\n",
    "dataset_respuestas = data_set[data_set[\"estado\"] == \"error\"]\n",
    "#print(dataset_respuestas)\n",
    "cant_respuestas_erroneas = dataset_respuestas.groupby([\"usuarie\", \"estado\"])[\"usuarie\"].count()\n",
    "\n",
    "for i in cant_respuestas_erroneas.index:\n",
    "    usuarie = i[0]\n",
    "    tarjetas_erroneas = i[1]\n",
    "    print(f\"El usuarie {usuarie} dio una respuesta erronea en {tarjetas_erroneas} tarjetas\")\n"
   ]
  }
 ],
 "metadata": {
  "language_info": {
   "name": "python"
  },
  "orig_nbformat": 4
 },
 "nbformat": 4,
 "nbformat_minor": 2
}
