{
 "cells": [
  {
   "cell_type": "markdown",
   "metadata": {},
   "source": [
    "Primero importo las librerias necesarias para obtener la estadistica"
   ]
  },
  {
   "cell_type": "code",
   "execution_count": 1,
   "metadata": {},
   "outputs": [],
   "source": [
    "import pandas as pd\n",
    "import os\n",
    "\n",
    "ruta = os.path.join(os.getcwd(), '..', 'datos', 'eventos_partidas.csv')\n",
    "\n",
    "data_set = pd.read_csv(ruta, encoding='utf-8')"
   ]
  },
  {
   "cell_type": "markdown",
   "metadata": {},
   "source": [
    "Obtengo las veces que hubo timeout y las ordeno en base a los usuarios"
   ]
  },
  {
   "cell_type": "code",
   "execution_count": 5,
   "metadata": {},
   "outputs": [
    {
     "name": "stdout",
     "output_type": "stream",
     "text": [
      "El usuarie: UWU se quedo sin tiempo 10 veces.\n",
      "El usuarie: algo se quedo sin tiempo 7 veces.\n"
     ]
    }
   ],
   "source": [
    "timeout = data_set[data_set[\"estado\"] == 'timeout']\n",
    "\n",
    "timeout_x_usuarie = timeout.groupby([\"usuarie\"]).size()\n",
    "for usuarie in timeout_x_usuarie.keys():\n",
    "    print(\"El usuarie:\", usuarie, \"se quedo sin tiempo\",timeout_x_usuarie[usuarie], \"veces.\")"
   ]
  }
 ],
 "metadata": {
  "kernelspec": {
   "display_name": "Python 3.10.2 ('venv': venv)",
   "language": "python",
   "name": "python3"
  },
  "language_info": {
   "codemirror_mode": {
    "name": "ipython",
    "version": 3
   },
   "file_extension": ".py",
   "mimetype": "text/x-python",
   "name": "python",
   "nbconvert_exporter": "python",
   "pygments_lexer": "ipython3",
   "version": "3.10.2"
  },
  "orig_nbformat": 4,
  "vscode": {
   "interpreter": {
    "hash": "b9912e56ee1b18bd9602950669174d7273ee2eb1273dc745219fddf4b84953c1"
   }
  }
 },
 "nbformat": 4,
 "nbformat_minor": 2
}
