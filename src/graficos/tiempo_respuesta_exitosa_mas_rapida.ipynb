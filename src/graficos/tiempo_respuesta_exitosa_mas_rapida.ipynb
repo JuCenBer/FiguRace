{
 "cells": [
  {
   "cell_type": "markdown",
   "metadata": {},
   "source": [
    "# Tiempo de la respuesta exitosa más rápida"
   ]
  },
  {
   "cell_type": "code",
   "execution_count": 30,
   "metadata": {},
   "outputs": [
    {
     "name": "stdout",
     "output_type": "stream",
     "text": [
      "El tiempo de respuesta exitosa mas rapida es de 3 segundos\n"
     ]
    }
   ],
   "source": [
    "import pandas as pd\n",
    "from matplotlib import pyplot as plt\n",
    "import os\n",
    "\n",
    "ruta = os.path.join(os.getcwd(), '..', 'datos', 'eventos_partidas.csv')\n",
    "data_set = pd.read_csv(ruta, encoding='utf-8')\n",
    "\n",
    "#Asumimos que se refiere al tiempo mas rapido desde que arrancó la ronda.\n",
    "data_set = data_set[[\"timestamp\", \"estado\"]]\n",
    "data_set = data_set[(data_set[\"estado\"] == \"ok\") | (data_set[\"estado\"] == \"error\")]\n",
    "\n",
    "tiempo_mas_rapido = 10000\n",
    "for i in range(len(data_set)):\n",
    "    #print(data_set.iloc[i][\"timestamp\"],\" \",data_set.iloc[i][\"estado\"])\n",
    "    if(data_set.iloc[i][\"estado\"] == \"ok\"): \n",
    "        if(i == 0):\n",
    "            tiempo_mas_rapido = data_set.iloc[i][\"timestamp\"]\n",
    "        else:\n",
    "            tiempo_respuesta = data_set.iloc[i][\"timestamp\"] - data_set.iloc[i-1][\"timestamp\"]\n",
    "            if(tiempo_respuesta < tiempo_mas_rapido): tiempo_mas_rapido = tiempo_respuesta\n",
    "\n",
    "\n",
    "print(f\"El tiempo de respuesta exitosa mas rapida es de {tiempo_mas_rapido} segundos\")\n",
    "    "
   ]
  }
 ],
 "metadata": {
  "kernelspec": {
   "display_name": "Python 3.10.4 ('venv': venv)",
   "language": "python",
   "name": "python3"
  },
  "language_info": {
   "codemirror_mode": {
    "name": "ipython",
    "version": 3
   },
   "file_extension": ".py",
   "mimetype": "text/x-python",
   "name": "python",
   "nbconvert_exporter": "python",
   "pygments_lexer": "ipython3",
   "version": "3.10.4"
  },
  "orig_nbformat": 4,
  "vscode": {
   "interpreter": {
    "hash": "bfb1119d74637becc52ba92ae280a3e347c80b09a27d9ac0dc93d52677b7fdd3"
   }
  }
 },
 "nbformat": 4,
 "nbformat_minor": 2
}
