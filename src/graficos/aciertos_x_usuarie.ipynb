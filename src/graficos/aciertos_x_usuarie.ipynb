{
 "cells": [
  {
   "cell_type": "markdown",
   "metadata": {},
   "source": [
    "Primero importo las librerias necesarias para obtener la estadistica"
   ]
  },
  {
   "cell_type": "code",
   "execution_count": 1,
   "metadata": {},
   "outputs": [],
   "source": [
    "import pandas as pd\n",
    "import os\n",
    "\n",
    "ruta = os.path.join(os.getcwd(), '..', 'datos', 'eventos_partidas.csv')\n",
    "\n",
    "data_set = pd.read_csv(ruta, encoding='utf-8')"
   ]
  },
  {
   "cell_type": "markdown",
   "metadata": {},
   "source": [
    "Ahora hago el calculo obteniendo la cantidad de intentos por usuario y la cantidad de exitos por usuario"
   ]
  },
  {
   "cell_type": "code",
   "execution_count": 24,
   "metadata": {},
   "outputs": [
    {
     "name": "stdout",
     "output_type": "stream",
     "text": [
      "UWU %11.11111111111111\n",
      "algo %40.0\n"
     ]
    }
   ],
   "source": [
    "intentos = data_set[data_set[\"evento\"] == 'intento']\n",
    "exitos = data_set[data_set[\"estado\"] == 'ok']\n",
    "\n",
    "intentos_x_usuarie = intentos.groupby([\"usuarie\"]).size()\n",
    "exitos_x_usuarie = exitos.groupby([\"usuarie\"]).size()\n",
    "\n",
    "for usuario in intentos_x_usuarie.keys():\n",
    "    porcentaje = (exitos_x_usuarie[usuario] / intentos_x_usuarie[usuario]) * 100\n",
    "    print(usuario, \"%\" + str(porcentaje))"
   ]
  }
 ],
 "metadata": {
  "kernelspec": {
   "display_name": "Python 3.10.2 ('venv': venv)",
   "language": "python",
   "name": "python3"
  },
  "language_info": {
   "codemirror_mode": {
    "name": "ipython",
    "version": 3
   },
   "file_extension": ".py",
   "mimetype": "text/x-python",
   "name": "python",
   "nbconvert_exporter": "python",
   "pygments_lexer": "ipython3",
   "version": "3.10.2"
  },
  "orig_nbformat": 4,
  "vscode": {
   "interpreter": {
    "hash": "b9912e56ee1b18bd9602950669174d7273ee2eb1273dc745219fddf4b84953c1"
   }
  }
 },
 "nbformat": 4,
 "nbformat_minor": 2
}
