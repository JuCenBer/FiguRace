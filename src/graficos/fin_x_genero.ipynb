{
 "cells": [
  {
   "cell_type": "markdown",
   "metadata": {},
   "source": [
    "● Gráfico que muestre el porcentaje de partidas finalizadas según género.\n",
    "Primero importo las librerias necesarias para obtener la estadistica y abro los archivos"
   ]
  },
  {
   "cell_type": "code",
   "execution_count": null,
   "metadata": {},
   "outputs": [],
   "source": [
    "from matplotlib import pyplot as plt\n",
    "import pandas as pd\n",
    "import os\n",
    "import json\n",
    "\n",
    "#Abro los eventos\n",
    "ruta = os.path.join(os.getcwd(), '..', 'datos', 'eventos_partidas.csv')\n",
    "data_set = pd.read_csv(ruta, encoding='utf-8')\n",
    "\n",
    "#Abro los perfiles\n",
    "with open(os.path.join(os.getcwd(), \"..\", \"datos\", \"perfiles.json\"), \"r\", encoding='utf-8') as perfiles:\n",
    "    jugadores = json.load(perfiles)\n"
   ]
  },
  {
   "cell_type": "markdown",
   "metadata": {},
   "source": [
    "Obtengo los usuarios que finalizaron y obtengo el genero de los usuarios, al recorrer las partidas finalizadas aumento los contadores"
   ]
  },
  {
   "cell_type": "code",
   "execution_count": null,
   "metadata": {},
   "outputs": [],
   "source": [
    "#Obtengo los eventos finalizados por usuario\n",
    "usuarios_fin = data_set.groupby([\"estado\", \"usuarie\"])[\"usuarie\"].count()\n",
    "usuarios_fin = usuarios_fin[\"finalizado\"]\n",
    "#print(usuarios_fin)\n",
    "\n",
    "#Obtengo los usuarios y sus generos\n",
    "usuarios = {}\n",
    "for usuario in usuarios_fin.keys():\n",
    "    usuarios.update({usuario:\"\"})\n",
    "\n",
    "for jugador in jugadores:\n",
    "    for usuario in usuarios:\n",
    "        if(jugador[\"nick\"] == usuario):\n",
    "            usuarios[usuario] = jugador[\"genero\"]\n",
    "\n",
    "#Actualizo la cantidad de cada genero\n",
    "cant_hombres = 0\n",
    "cant_mujeres = 0\n",
    "cant_nobinario = 0\n",
    "\n",
    "for usuario in usuarios_fin.keys():\n",
    "    if(usuarios[usuario] == \"Hombre\"):\n",
    "        cant_hombres+= usuarios_fin[usuario]\n",
    "    if(usuarios[usuario] == \"No Binario\"):\n",
    "        cant_nobinario+= usuarios_fin[usuario]\n",
    "    if(usuarios[usuario] == \"Mujer\"):\n",
    "        cant_mujeres+= usuarios_fin[usuario]\n"
   ]
  },
  {
   "cell_type": "markdown",
   "metadata": {},
   "source": [
    "El siguiente bloque de codigo es la configuracion para el grafico"
   ]
  },
  {
   "cell_type": "code",
   "execution_count": null,
   "metadata": {},
   "outputs": [],
   "source": [
    "#A partir de aca es para hacer la torta\n",
    "etiquetas = [\"Hombres\", \"Mujeres\", \"No Binario\"]\n",
    "\n",
    "data_dibujo = [cant_hombres, cant_mujeres, cant_nobinario]\n",
    "explode = (0.1, 0.1, 0.1)\n",
    "\n",
    "plt.pie(data_dibujo, explode=explode, labels=etiquetas, autopct='%1.2f%%', shadow=True, startangle=120, labeldistance= 1.2)\n",
    "plt.axis('equal') \n",
    "plt.legend(etiquetas)\n",
    "\n",
    "plt.title(\"Porcentaje de partidas finalizadas por genero\")\n",
    "plt.show()"
   ]
  }
 ],
 "metadata": {
  "language_info": {
   "name": "python"
  },
  "orig_nbformat": 4
 },
 "nbformat": 4,
 "nbformat_minor": 2
}
