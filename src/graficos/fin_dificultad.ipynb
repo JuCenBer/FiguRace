{
 "cells": [
  {
   "cell_type": "markdown",
   "metadata": {},
   "source": [
    "# Porcentaje de partidas finalizadas segun dificultad"
   ]
  },
  {
   "cell_type": "code",
   "execution_count": 7,
   "metadata": {},
   "outputs": [
    {
     "name": "stdout",
     "output_type": "stream",
     "text": [
      "estado      nivel\n",
      "cancelada   Facil     2\n",
      "error       Facil    19\n",
      "finalizado  Facil     4\n",
      "nueva       Facil     6\n",
      "ok          Facil     4\n",
      "Name: nivel, dtype: int64\n"
     ]
    }
   ],
   "source": [
    "from matplotlib import pyplot as plt\n",
    "import pandas as pd\n",
    "import os\n",
    "import json\n",
    "\n",
    "#Abro el archivo de eventos\n",
    "ruta = os.path.join(os.getcwd(), '..', 'datos', 'eventos_partidas.csv')\n",
    "data_set = pd.read_csv(ruta, encoding='utf-8')\n",
    "\n",
    "#Abro el archivo de los perfiles\n",
    "with open(os.path.join(os.getcwd(), \"..\", \"datos\", \"perfiles.json\"), \"r\", encoding='utf-8') as perfiles:\n",
    "    jugadores = json.load(perfiles)\n",
    "\n",
    "dificultad_fin = data_set[data_set[\"evento\"] == \"fin\"]\n",
    "#dificultad_fin = data_set[data_set[\"estado\"]]\n",
    "#Obtengo los eventos finalizados por usuario\n",
    "dificultad_fin = data_set.groupby([\"estado\", \"nivel\"])[\"nivel\"].count()\n",
    "#usuarios_fin = usuarios_fin[\"finalizado\"]\n",
    "print(dificultad_fin)\n"
   ]
  },
  {
   "cell_type": "code",
   "execution_count": 8,
   "metadata": {},
   "outputs": [
    {
     "ename": "NameError",
     "evalue": "name 'usuarios_fin' is not defined",
     "output_type": "error",
     "traceback": [
      "\u001b[1;31m---------------------------------------------------------------------------\u001b[0m",
      "\u001b[1;31mNameError\u001b[0m                                 Traceback (most recent call last)",
      "\u001b[1;32me:\\Escritorio\\Academico\\Analista Programador Universitario\\Semestre 3\\Seminario Python\\Proyecto Integrador\\grupo36\\src\\graficos\\fin_dificultad.ipynb Cell 3'\u001b[0m in \u001b[0;36m<cell line: 3>\u001b[1;34m()\u001b[0m\n\u001b[0;32m      <a href='vscode-notebook-cell:/e%3A/Escritorio/Academico/Analista%20Programador%20Universitario/Semestre%203/Seminario%20Python/Proyecto%20Integrador/grupo36/src/graficos/fin_dificultad.ipynb#ch0000002?line=0'>1</a>\u001b[0m \u001b[39m#Obtengo los usuarios y sus generos\u001b[39;00m\n\u001b[0;32m      <a href='vscode-notebook-cell:/e%3A/Escritorio/Academico/Analista%20Programador%20Universitario/Semestre%203/Seminario%20Python/Proyecto%20Integrador/grupo36/src/graficos/fin_dificultad.ipynb#ch0000002?line=1'>2</a>\u001b[0m usuarios \u001b[39m=\u001b[39m {}\n\u001b[1;32m----> <a href='vscode-notebook-cell:/e%3A/Escritorio/Academico/Analista%20Programador%20Universitario/Semestre%203/Seminario%20Python/Proyecto%20Integrador/grupo36/src/graficos/fin_dificultad.ipynb#ch0000002?line=2'>3</a>\u001b[0m \u001b[39mfor\u001b[39;00m usuario \u001b[39min\u001b[39;00m usuarios_fin\u001b[39m.\u001b[39mkeys():\n\u001b[0;32m      <a href='vscode-notebook-cell:/e%3A/Escritorio/Academico/Analista%20Programador%20Universitario/Semestre%203/Seminario%20Python/Proyecto%20Integrador/grupo36/src/graficos/fin_dificultad.ipynb#ch0000002?line=3'>4</a>\u001b[0m     usuarios\u001b[39m.\u001b[39mupdate({usuario: \u001b[39m\"\u001b[39m\u001b[39m\"\u001b[39m})\n\u001b[0;32m      <a href='vscode-notebook-cell:/e%3A/Escritorio/Academico/Analista%20Programador%20Universitario/Semestre%203/Seminario%20Python/Proyecto%20Integrador/grupo36/src/graficos/fin_dificultad.ipynb#ch0000002?line=5'>6</a>\u001b[0m \u001b[39mfor\u001b[39;00m jugador \u001b[39min\u001b[39;00m jugadores:\n",
      "\u001b[1;31mNameError\u001b[0m: name 'usuarios_fin' is not defined"
     ]
    }
   ],
   "source": [
    "#Obtengo los usuarios y sus generos\n",
    "usuarios = {}\n",
    "for usuario in usuarios_fin.keys():\n",
    "    usuarios.update({usuario: \"\"})\n",
    "\n",
    "for jugador in jugadores:\n",
    "    for usuario in usuarios:\n",
    "        if(jugador[\"nick\"] == usuario):\n",
    "            usuarios[usuario] = jugador[\"genero\"]\n",
    "\n",
    "#Actualizo la cantidad de cada genero\n",
    "cant_hombres = 0\n",
    "cant_mujeres = 0\n",
    "cant_nobinario = 0\n",
    "\n",
    "for usuario in usuarios_fin.keys():\n",
    "    if(usuarios[usuario] == \"Hombre\"):\n",
    "        cant_hombres += usuarios_fin[usuario]\n",
    "    if(usuarios[usuario] == \"No Binario\"):\n",
    "        cant_nobinario += usuarios_fin[usuario]\n",
    "    if(usuarios[usuario] == \"Mujer\"):\n",
    "        cant_mujeres += usuarios_fin[usuario]\n",
    "\n",
    "\n",
    "#A partir de aca es para hacer la torta\n",
    "etiquetas = [\"Hombres\", \"Mujeres\", \"No Binario\"]\n",
    "\n",
    "data_dibujo = [cant_hombres, cant_mujeres, cant_nobinario]\n",
    "explode = (0.1, 0.1, 0.1)\n",
    "\n",
    "plt.pie(data_dibujo, explode=explode, labels=etiquetas,\n",
    "        autopct='%1.2f%%', shadow=True, startangle=120, labeldistance=1.2)\n",
    "plt.axis('equal')\n",
    "plt.legend(etiquetas)\n",
    "\n",
    "plt.title(\"Porcentaje de partidas finalizadas por genero\")\n",
    "plt.show()\n"
   ]
  }
 ],
 "metadata": {
  "kernelspec": {
   "display_name": "Python 3.10.4 ('venv': venv)",
   "language": "python",
   "name": "python3"
  },
  "language_info": {
   "codemirror_mode": {
    "name": "ipython",
    "version": 3
   },
   "file_extension": ".py",
   "mimetype": "text/x-python",
   "name": "python",
   "nbconvert_exporter": "python",
   "pygments_lexer": "ipython3",
   "version": "3.10.4"
  },
  "orig_nbformat": 4,
  "vscode": {
   "interpreter": {
    "hash": "bfb1119d74637becc52ba92ae280a3e347c80b09a27d9ac0dc93d52677b7fdd3"
   }
  }
 },
 "nbformat": 4,
 "nbformat_minor": 2
}
