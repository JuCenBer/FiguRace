{
 "cells": [
  {
   "cell_type": "markdown",
   "metadata": {},
   "source": [
    "# Erupciones Volcánicas"
   ]
  },
  {
   "cell_type": "markdown",
   "metadata": {},
   "source": [
    "Genero un diccionario con las traducciones para cada tipo de volcan y abro el archivo. Transformo el dataset en lista para procesarlo y me quedo con la cabecera para acomodarla"
   ]
  },
  {
   "cell_type": "code",
   "execution_count": 1,
   "metadata": {},
   "outputs": [],
   "source": [
    "import os\n",
    "import csv\n",
    "\n",
    "diccionario_ingles = {'Caldera': 'Caldera', 'Lava dome': 'Arandela De Cúpula', 'Complex volcano': 'Volcán Complejo',\n",
    "                        'Stratovolcano': 'Estratovolcán', 'Shield volcano': 'Volcán En Escudo', 'Subglacial volcano': 'Volcán Subglacial',\n",
    "                        'Pyroclastic cone': 'Cono Piroclástico', 'Submarine volcano': 'Volcán Submarino', 'Pyroclastic shield': 'Escudo Piroclástico',\n",
    "                     'Tuff cone': 'Cono De Toba', 'Crater rows': 'Filas De Cráteres', 'Fissure vent': 'Grieta De Viento',\n",
    "                        'Lava cone': 'Cono De Lavado', 'Maar': 'Pero', 'Compound volcano': 'Volcán Compuesto', 'Cinder cone': 'Cono De Ceniza',\n",
    "                     'Pumice cone': 'Cono De Piedra Pómez', 'Mud volcano': 'Volcán De Lodo', 'Volcanic field': 'Campo Volcánico',\n",
    "                      'Submarine volcanoes': 'Volcanes Submarinos'}\n",
    "\n",
    "def traducir(palabra):\n",
    "    return diccionario_ingles[palabra]\n",
    "\n",
    "ruta = os.path.realpath(\"erupciones.csv\")\n",
    "ruta_nuevo = os.path.realpath(\"erupciones_FORMATEADO.csv\")\n",
    "with open(ruta, \"r\", encoding=\"utf-8\") as archivo:\n",
    "    reader = csv.reader(archivo, delimiter = \";\")\n",
    "    cabecera = next(reader)\n",
    "    #Escribo la nueva cabecera\n",
    "    listado_erupciones = list(reader)"
   ]
  },
  {
   "cell_type": "markdown",
   "metadata": {},
   "source": [
    "## Se procesan las lineas\n",
    "Traduzco la columna 9, elimino caracteres incorrectos de los años, transformo los flag de tsunami y terremoto, y acomodo ciertos valores de la columna 11."
   ]
  },
  {
   "cell_type": "code",
   "execution_count": 2,
   "metadata": {},
   "outputs": [],
   "source": [
    "with open(ruta_nuevo, \"w\", encoding=\"utf-8\", newline=\"\") as archivo_nuevo:\n",
    "    writer = csv.writer(archivo_nuevo, delimiter=\",\")\n",
    "    writer.writerow([cabecera[0], cabecera[11], cabecera[9],\n",
    "                    cabecera[3], cabecera[4], 'Name and Country'])\n",
    "    for linea in listado_erupciones:\n",
    "        linea[9] = traducir(linea[9])\n",
    "        linea[0] = linea[0].strip(\"-\")\n",
    "        linea[3] = True if 'Tsunami' in linea[3] else False\n",
    "        linea[4] = True if 'Earthquake' in linea[4] else False\n",
    "        if linea[11] == '':\n",
    "            linea[11] = 0\n",
    "        writer.writerow([linea[0], linea[11], linea[9], linea[3],\n",
    "                        linea[4], ''.join(linea[5]+\" (\"+linea[7]+\")\")])"
   ]
  },
  {
   "cell_type": "markdown",
   "metadata": {},
   "source": [
    "Finalmente, voy guardando cada linea procesada y se cierra el archivo"
   ]
  }
 ],
 "metadata": {
  "interpreter": {
   "hash": "8e42de7f272af51c46ecb9fd929a1de0dc71ee5576f9fc3b15c6c7432bd66913"
  },
  "kernelspec": {
   "display_name": "Python 3.10.4 64-bit",
   "language": "python",
   "name": "python3"
  },
  "language_info": {
   "codemirror_mode": {
    "name": "ipython",
    "version": 3
   },
   "file_extension": ".py",
   "mimetype": "text/x-python",
   "name": "python",
   "nbconvert_exporter": "python",
   "pygments_lexer": "ipython3",
   "version": "3.10.4"
  },
  "orig_nbformat": 4
 },
 "nbformat": 4,
 "nbformat_minor": 2
}
