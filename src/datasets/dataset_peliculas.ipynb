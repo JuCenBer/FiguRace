{
 "cells": [
  {
   "cell_type": "markdown",
   "metadata": {},
   "source": [
    "## Dataset de películas"
   ]
  },
  {
   "cell_type": "markdown",
   "metadata": {},
   "source": [
    "#### Manejo del archivo original"
   ]
  },
  {
   "cell_type": "code",
   "execution_count": 6,
   "metadata": {},
   "outputs": [
    {
     "name": "stdout",
     "output_type": "stream",
     "text": [
      "['Release_Date', 'Title', 'Overview', 'Popularity', 'Vote_Count', 'Vote_Average', 'Original_Language', 'Genre', 'Poster_Url']\n"
     ]
    }
   ],
   "source": [
    "import csv\n",
    "import os\n",
    "import collections\n",
    "import random\n",
    "\n",
    "ruta_wd = os.getcwd()\n",
    "ruta = os.path.join(ruta_wd,\"mymoviedb.csv\")\n",
    "\n",
    "with open(ruta,encoding=\"utf-8\") as archivo:\n",
    "    csvreader = csv.reader(archivo,delimiter=',')\n",
    "    encabezado = next(csvreader)\n",
    "    print(encabezado)\n",
    "    #lista = [x for x in csvreader if x[2] != \"\" and len(x[6]) <= 2] \n",
    "    lista = []\n",
    "    for linea in csvreader:\n",
    "        try: # Hay lineas vacias en el csv\n",
    "            if linea[2] != \"\" and len(linea[6]) <= 2: lista.append(linea)\n",
    "        except:\n",
    "            continue"
   ]
  },
  {
   "cell_type": "markdown",
   "metadata": {},
   "source": [
    "#### Contador de palabras de todas las overviews"
   ]
  },
  {
   "cell_type": "code",
   "execution_count": 7,
   "metadata": {},
   "outputs": [
    {
     "name": "stdout",
     "output_type": "stream",
     "text": [
      "['the', 'a', 'to', 'and', 'of', 'in', 'his', 'is', 'with', 'her', 'an', 'he', 'for', 'on', 'that', 'their', 'when', 'as', 'by', 'who', 'from', 'but', 'they', 'she', 'are', 'has', 'after', 'into', 'at', 'him', 'life', 'new', 'one', 'young', 'it', 'up', 'out', 'world', 'be', 'must', 'two', 'this', 'will', 'have', 'all', 'family', 'them', 'find', 'man', 'only', 'love', 'while', 'where', 'friends', 'finds', 'years', 'time', 'story', 'about', 'not', 'woman', 'help', 'school', 'get', 'home', 'back', 'was', 'can', 'mysterious', 'own', 'what', 'against', 'now', 'take', 'group', 'which', 'save', 'way', 'before', 'more', 'first', 'soon', 'girl', 'other', 'been', 'himself', 'through', 'war', 'father', 'become', 'over', 'lives', 'becomes', 'most', 'town', 'being', 'takes', 'down', 'during', 'team']\n"
     ]
    }
   ],
   "source": [
    "contador = collections.Counter()\n",
    "for pelicula in lista:\n",
    "    overview = pelicula[2].lower().replace(\",\",\"\").replace(\".\",\"\").replace(\"-\",\"\").split()\n",
    "    contador.update(overview)\n",
    "\n",
    "palabras_mas_comunes = list(map(lambda x: x[0],contador.most_common(100)))\n",
    "print(palabras_mas_comunes)"
   ]
  },
  {
   "cell_type": "markdown",
   "metadata": {},
   "source": [
    "#### Funciones para transformar las sinopsis"
   ]
  },
  {
   "cell_type": "code",
   "execution_count": 8,
   "metadata": {},
   "outputs": [],
   "source": [
    "def eliminar_palabras_comunes(overview,palabras_comunes,titulo):\n",
    "    ### Recibe una sinopsis de pelicula en string, le elimina las palabras mas comunes y las incluidas en el titulo, y la retorna en tipo lista ###\n",
    "    overview = overview.lower().replace(\",\",\"\").replace(\".\",\"\").replace(\"-\",\"\").replace(\"–\",\"\").split()\n",
    "    titulo.split()\n",
    "    overview = [elem for elem in overview if elem not in titulo]\n",
    "    overview_filtrado = list(filter(lambda x: x not in palabras_comunes,overview))\n",
    "    return overview_filtrado\n",
    "\n",
    "def reducir_overview_random(overview):\n",
    "    ### Recibe una sinopsis en lista, la desordena, y retorna 3 palabras al azar, separadas con \";\" en una string ###\n",
    "    if len(overview) < 3: \n",
    "        random.shuffle(overview)\n",
    "        overview_reducida = overview\n",
    "    else :\n",
    "        random.shuffle(overview)\n",
    "        overview_reducida = random.sample(overview,3)\n",
    "    overview_reducida = [elem.strip().strip('\"') for elem in overview_reducida]\n",
    "    overview_reducida_str = \"; \".join(overview_reducida)\n",
    "    return overview_reducida_str\n",
    "\n",
    "def modificar_overview(overview,palabras_comunes):\n",
    "    ov = eliminar_palabras_comunes(overview,palabras_comunes)\n",
    "    return reducir_overview_random(ov)"
   ]
  },
  {
   "cell_type": "markdown",
   "metadata": {},
   "source": [
    "#### Ejemplo de cómo queda el overview de una película"
   ]
  },
  {
   "cell_type": "code",
   "execution_count": 9,
   "metadata": {},
   "outputs": [
    {
     "name": "stdout",
     "output_type": "stream",
     "text": [
      "--------------------------------------------------\n",
      "Sinopsis original \n",
      "\n",
      " Peter Parker is unmasked and no longer able to separate his normal life from the high-stakes of being a super-hero. When he asks for help from Doctor Strange the stakes become even more dangerous, forcing him to discover what it truly means to be Spider-Man.\n",
      "\n",
      "--------------------------------------------------\n",
      "Sinopsis sin las 100 palabras más comunes\n",
      "\n",
      "['peter', 'parker', 'unmasked', 'no', 'longer', 'able', 'separate', 'normal', 'highstakes', 'superhero', 'asks', 'doctor', 'strange', 'stakes', 'even', 'dangerous', 'forcing', 'discover', 'truly', 'means', 'spiderman']\n",
      "\n",
      "--------------------------------------------------\n",
      "Sinopsis en 3 palabras al azar\n",
      "\n",
      "discover; highstakes; asks\n"
     ]
    }
   ],
   "source": [
    "print(\"-\"*50)\n",
    "print(f\"Sinopsis original \\n\\n {lista[0][2]}\\n\")\n",
    "overview_sin_comunes = eliminar_palabras_comunes(lista[0][2],palabras_mas_comunes,lista[0][1])\n",
    "print(\"-\"*50)\n",
    "print(f\"Sinopsis sin las 100 palabras más comunes\\n\\n{overview_sin_comunes}\\n\")\n",
    "print(\"-\"*50)\n",
    "overview_final = reducir_overview_random(overview_sin_comunes)\n",
    "print(f\"Sinopsis en 3 palabras al azar\\n\\n{overview_final}\")"
   ]
  },
  {
   "cell_type": "markdown",
   "metadata": {},
   "source": [
    "##### Modificación de la columna Overview"
   ]
  },
  {
   "cell_type": "code",
   "execution_count": 10,
   "metadata": {},
   "outputs": [
    {
     "ename": "TypeError",
     "evalue": "eliminar_palabras_comunes() missing 1 required positional argument: 'titulo'",
     "output_type": "error",
     "traceback": [
      "\u001b[1;31m---------------------------------------------------------------------------\u001b[0m",
      "\u001b[1;31mTypeError\u001b[0m                                 Traceback (most recent call last)",
      "\u001b[1;32md:\\Escritorio\\FACULTAD\\PYTHON\\grupo36\\src\\datasets\\dataset_peliculas\\dataset_peliculas.ipynb Cell 11'\u001b[0m in \u001b[0;36m<cell line: 1>\u001b[1;34m()\u001b[0m\n\u001b[0;32m      <a href='vscode-notebook-cell:/d%3A/Escritorio/FACULTAD/PYTHON/grupo36/src/datasets/dataset_peliculas/dataset_peliculas.ipynb#ch0000010?line=0'>1</a>\u001b[0m \u001b[39mfor\u001b[39;00m pelicula \u001b[39min\u001b[39;00m lista:\n\u001b[1;32m----> <a href='vscode-notebook-cell:/d%3A/Escritorio/FACULTAD/PYTHON/grupo36/src/datasets/dataset_peliculas/dataset_peliculas.ipynb#ch0000010?line=1'>2</a>\u001b[0m     nueva_overview \u001b[39m=\u001b[39m modificar_overview(pelicula[\u001b[39m2\u001b[39;49m],palabras_mas_comunes)\n\u001b[0;32m      <a href='vscode-notebook-cell:/d%3A/Escritorio/FACULTAD/PYTHON/grupo36/src/datasets/dataset_peliculas/dataset_peliculas.ipynb#ch0000010?line=2'>3</a>\u001b[0m     pelicula[\u001b[39m2\u001b[39m] \u001b[39m=\u001b[39m nueva_overview\n",
      "\u001b[1;32md:\\Escritorio\\FACULTAD\\PYTHON\\grupo36\\src\\datasets\\dataset_peliculas\\dataset_peliculas.ipynb Cell 7'\u001b[0m in \u001b[0;36mmodificar_overview\u001b[1;34m(overview, palabras_comunes)\u001b[0m\n\u001b[0;32m     <a href='vscode-notebook-cell:/d%3A/Escritorio/FACULTAD/PYTHON/grupo36/src/datasets/dataset_peliculas/dataset_peliculas.ipynb#ch0000006?line=20'>21</a>\u001b[0m \u001b[39mdef\u001b[39;00m \u001b[39mmodificar_overview\u001b[39m(overview,palabras_comunes):\n\u001b[1;32m---> <a href='vscode-notebook-cell:/d%3A/Escritorio/FACULTAD/PYTHON/grupo36/src/datasets/dataset_peliculas/dataset_peliculas.ipynb#ch0000006?line=21'>22</a>\u001b[0m     ov \u001b[39m=\u001b[39m eliminar_palabras_comunes(overview,palabras_comunes)\n\u001b[0;32m     <a href='vscode-notebook-cell:/d%3A/Escritorio/FACULTAD/PYTHON/grupo36/src/datasets/dataset_peliculas/dataset_peliculas.ipynb#ch0000006?line=22'>23</a>\u001b[0m     \u001b[39mreturn\u001b[39;00m reducir_overview_random(ov)\n",
      "\u001b[1;31mTypeError\u001b[0m: eliminar_palabras_comunes() missing 1 required positional argument: 'titulo'"
     ]
    }
   ],
   "source": [
    "for pelicula in lista:\n",
    "    nueva_overview = modificar_overview(pelicula[2],palabras_mas_comunes)\n",
    "    pelicula[2] = nueva_overview"
   ]
  },
  {
   "cell_type": "markdown",
   "metadata": {},
   "source": [
    "#### Generación del nuevo dataset"
   ]
  },
  {
   "cell_type": "code",
   "execution_count": null,
   "metadata": {},
   "outputs": [],
   "source": [
    "ruta_wd = os.getcwd()\n",
    "ruta = os.path.join(ruta_wd,\"peliculas_formateado.csv\")\n",
    "\n",
    "with open(ruta,\"w\",encoding=\"utf-8\") as archivo:\n",
    "    writer = csv.writer(archivo,delimiter=',',lineterminator='\\n')\n",
    "    writer.writerow([encabezado[7],encabezado[6],encabezado[0],encabezado[5],encabezado[2],encabezado[1]])\n",
    "    for pelicula in lista:\n",
    "        writer.writerow([pelicula[7],pelicula[6],pelicula[0],pelicula[5],pelicula[2],pelicula[1]])\n"
   ]
  }
 ],
 "metadata": {
  "interpreter": {
   "hash": "155abff32017166c443e997db2003735358b583135b8412ff9fc903f0b9dc584"
  },
  "kernelspec": {
   "display_name": "Python 3.10.4 64-bit (system)",
   "language": "python",
   "name": "python3"
  },
  "language_info": {
   "codemirror_mode": {
    "name": "ipython",
    "version": 3
   },
   "file_extension": ".py",
   "mimetype": "text/x-python",
   "name": "python",
   "nbconvert_exporter": "python",
   "pygments_lexer": "ipython3",
   "version": "3.10.4"
  },
  "orig_nbformat": 4
 },
 "nbformat": 4,
 "nbformat_minor": 2
}
