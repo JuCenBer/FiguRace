{
 "cells": [
  {
   "cell_type": "markdown",
   "id": "dab0d7c0",
   "metadata": {},
   "source": [
    "Script para formatear lagos"
   ]
  },
  {
   "cell_type": "markdown",
   "id": "bfe5b9ef",
   "metadata": {},
   "source": [
    "En el siguiente bloque de codigo, importo los paquetes necesarios y defino esta funcion que solamente toma un string de coordenadas con el formato DMS y lo transforma a un string de coordenadas con formato decimal"
   ]
  },
  {
   "cell_type": "code",
   "execution_count": 1,
   "id": "1a376c06",
   "metadata": {},
   "outputs": [],
   "source": [
    "import csv\n",
    "import os\n",
    "\n",
    "def convertir_decimal(coordenadas):\n",
    "\n",
    "    lista_de_coordenadas = coordenadas.split()\n",
    "    coordenadas_d = ''\n",
    "    for coordenada in lista_de_coordenadas:\n",
    "        grado = float(coordenada.split('°')[0])\n",
    "        minuto = float(coordenada.replace(\"°\", \"'\").split(\"'\")[1])\n",
    "        segundos = float(coordenada.replace('\"', \"'\").split(\"'\")[1])\n",
    "        orientacion = coordenada.split('\"')[1]\n",
    "\n",
    "        ubicacion = round(grado + (minuto / 60) + (segundos / 3600), 2)\n",
    "        if(orientacion == 'W') | (orientacion == 'S'):\n",
    "            ubicacion = ubicacion * -1\n",
    "\n",
    "        coordenadas_d += str(ubicacion) + ', '\n",
    "\n",
    "    return coordenadas_d[:-2]"
   ]
  },
  {
   "cell_type": "markdown",
   "id": "d870182c",
   "metadata": {},
   "source": [
    "El siguiente codigo del programa abre 2 archivos, uno es el csv con los datos de lagos y el otro es el csv con los datos ya formateados, en caso de no existir el nuevo archivo, lo crea"
   ]
  },
  {
   "cell_type": "code",
   "execution_count": 2,
   "id": "a9b04716",
   "metadata": {},
   "outputs": [],
   "source": [
    "ruta = os.path.join(os.getcwd(), 'Lagos Argentina - Hoja 1.csv')\n",
    "ruta2 = os.path.join(os.getcwd(), 'Lagos_formateados.csv')\n",
    "\n",
    "args = {\"newline\": \"\", \"encoding\": \"utf-8\"}\n",
    "with open(ruta, 'r', **args) as data, open(ruta2, 'w+', **args) as nuevo_archivo:\n",
    "    iterador_lectura = csv.DictReader(data, delimiter=',')\n",
    "\n",
    "    columnas = ['Ubicación', 'Superficie (km²)', 'Profundidad máxima (m)',\n",
    "                'Profundidad media (m)', 'Coordenadas', 'Nombre']\n",
    "    iterador_escritura = csv.DictWriter(nuevo_archivo, fieldnames=columnas, delimiter=',')\n",
    "    iterador_escritura.writeheader()\n",
    "\n",
    "    for row in iterador_lectura:\n",
    "        row['Coordenadas'] = convertir_decimal(row['Coordenadas'])\n",
    "        iterador_escritura.writerow(row)"
   ]
  }
 ],
 "metadata": {
  "interpreter": {
   "hash": "155abff32017166c443e997db2003735358b583135b8412ff9fc903f0b9dc584"
  },
  "kernelspec": {
   "display_name": "Python 3.10.4 64-bit (system)",
   "language": "python",
   "name": "python3"
  },
  "language_info": {
   "codemirror_mode": {
    "name": "ipython",
    "version": 3
   },
   "file_extension": ".py",
   "mimetype": "text/x-python",
   "name": "python",
   "nbconvert_exporter": "python",
   "pygments_lexer": "ipython3",
   "version": "3.10.4"
  }
 },
 "nbformat": 4,
 "nbformat_minor": 5
}
