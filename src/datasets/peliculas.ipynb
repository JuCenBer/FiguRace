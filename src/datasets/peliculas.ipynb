{
 "cells": [
  {
   "cell_type": "code",
   "execution_count": 27,
   "metadata": {},
   "outputs": [
    {
     "name": "stdout",
     "output_type": "stream",
     "text": [
      "Index(['Genre', 'Original_Language', 'Release_Date', 'Vote_Average',\n",
      "       'Overview', 'Title'],\n",
      "      dtype='object')\n",
      "(9826, 6)\n",
      "(9826, 6)\n"
     ]
    }
   ],
   "source": [
    "import csv\n",
    "import os\n",
    "import collections\n",
    "import random\n",
    "import pandas as pd\n",
    "\n",
    "ruta_wd = os.getcwd()\n",
    "ruta_original = os.path.join(ruta_wd,\"mymoviedb.csv\")\n",
    "ruta_arreglado = os.path.join(ruta_wd,\"mymoviedb_arreglado.csv\")\n",
    "\n",
    "with open(ruta_original,encoding=\"utf-8\") as archivo:\n",
    "    csvreader = csv.reader(archivo,delimiter=',')\n",
    "    lista = [linea for linea in csvreader if len(linea) == 9]\n",
    "\n",
    "with open(ruta_arreglado,\"w\",encoding=\"utf-8\") as archivo:\n",
    "    writer = csv.writer(archivo,delimiter=',',lineterminator='\\n')\n",
    "    for linea in lista: writer.writerow(linea)\n",
    "\n",
    "archivo_original = pd.read_csv(ruta_arreglado, encoding=\"utf-8\", delimiter=\",\")\n",
    "columnas = archivo_original.columns\n",
    "\n",
    "archivo_modif = archivo_original[[columnas[7],columnas[6],columnas[0],columnas[5],columnas[2],columnas[1]]]\n",
    "\n",
    "print(archivo_modif.columns)\n",
    "print(archivo_modif.shape)\n",
    "archivo_modif['Original_Language'].unique()\n",
    "# No hay lenguajes de mas de 2 caracteres\n",
    "\n",
    "# Saco las overviews vacias\n",
    "archivo_modif = archivo_modif[archivo_modif['Overview'] != \"\"]\n",
    "\n",
    "print(archivo_modif.shape)"
   ]
  },
  {
   "cell_type": "code",
   "execution_count": 28,
   "metadata": {},
   "outputs": [],
   "source": [
    "# with open(ruta_original,encoding=\"utf-8\") as archivo:\n",
    "#     csvreader = csv.reader(archivo,delimiter=',')\n",
    "#     encabezado = next(csvreader)\n",
    "#     print(encabezado)\n",
    "#     lista = [linea for linea in csvreader if len(linea) == 9 and linea[2] != \"\" and len(linea[6]) <= 2] \n",
    "\n",
    "# contador = collections.Counter()\n",
    "# for pelicula in lista:\n",
    "#     overview = pelicula[2].lower().replace(\",\",\"\").replace(\".\",\"\").replace(\"-\",\"\").split()\n",
    "#     contador.update(overview)\n",
    "\n",
    "# palabras_mas_comunes = list(map(lambda x: x[0],contador.most_common(100)))\n",
    "# print(palabras_mas_comunes)\n",
    "\n",
    "# def eliminar_palabras_comunes(overview,palabras_comunes,titulo):\n",
    "#     ### Recibe una sinopsis de pelicula en string, le elimina las palabras mas comunes y las incluidas en el titulo, y la retorna en tipo lista ###\n",
    "#     overview = overview.lower().replace(\",\",\"\").replace(\".\",\"\").replace(\"-\",\"\").replace(\"–\",\"\").split()\n",
    "#     titulo.split()\n",
    "#     overview = [elem for elem in overview if elem not in titulo]\n",
    "#     overview_filtrado = list(filter(lambda x: x not in palabras_comunes,overview))\n",
    "#     return overview_filtrado\n",
    "\n",
    "# def reducir_overview_random(overview):\n",
    "#     ### Recibe una sinopsis en lista, la desordena, y retorna 3 palabras al azar, separadas con \";\" en una string ###\n",
    "#     if len(overview) < 3: \n",
    "#         random.shuffle(overview)\n",
    "#         overview_reducida = overview\n",
    "#     else :\n",
    "#         random.shuffle(overview)\n",
    "#         overview_reducida = random.sample(overview,3)\n",
    "#     overview_reducida = [elem.strip().strip('\"') for elem in overview_reducida]\n",
    "#     overview_reducida_str = \"; \".join(overview_reducida)\n",
    "#     return overview_reducida_str\n",
    "\n",
    "# def modificar_overview(overview,palabras_comunes,titulo):\n",
    "#     ov = eliminar_palabras_comunes(overview,palabras_comunes,titulo)\n",
    "#     return reducir_overview_random(ov)\n",
    "\n",
    "# print(\"-\"*50)\n",
    "# print(f\"Sinopsis original \\n\\n {lista[0][2]}\\n\")\n",
    "# overview_sin_comunes = eliminar_palabras_comunes(lista[0][2],palabras_mas_comunes,lista[0][1])\n",
    "# print(\"-\"*50)\n",
    "# print(f\"Sinopsis sin las 100 palabras más comunes\\n\\n{overview_sin_comunes}\\n\")\n",
    "# print(\"-\"*50)\n",
    "# overview_final = reducir_overview_random(overview_sin_comunes)\n",
    "# print(f\"Sinopsis en 3 palabras al azar\\n\\n{overview_final}\")\n",
    "\n",
    "# for pelicula in lista:\n",
    "#     nueva_overview = modificar_overview(pelicula[2],palabras_mas_comunes,pelicula[1])\n",
    "#     pelicula[2] = nueva_overview\n",
    "\n",
    "# ruta_wd = os.getcwd()\n",
    "# ruta = os.path.join(ruta_wd,\"peliculas_formateado.csv\")\n",
    "\n",
    "# with open(ruta,\"w\",encoding=\"utf-8\") as archivo:\n",
    "#     writer = csv.writer(archivo,delimiter=',',lineterminator='\\n')\n",
    "#     writer.writerow([encabezado[7],encabezado[6],encabezado[0],encabezado[5],encabezado[2],encabezado[1]])\n",
    "#     for pelicula in lista:\n",
    "#         writer.writerow([pelicula[7],pelicula[6],pelicula[0],pelicula[5],pelicula[2],pelicula[1]])"
   ]
  }
 ],
 "metadata": {
  "interpreter": {
   "hash": "e36174c3e4652f79e9f453622064d55f4342e480e5ebdc3d2400a9e848129485"
  },
  "kernelspec": {
   "display_name": "Python 3.9.7 ('base')",
   "language": "python",
   "name": "python3"
  },
  "language_info": {
   "codemirror_mode": {
    "name": "ipython",
    "version": 3
   },
   "file_extension": ".py",
   "mimetype": "text/x-python",
   "name": "python",
   "nbconvert_exporter": "python",
   "pygments_lexer": "ipython3",
   "version": "3.9.7"
  },
  "orig_nbformat": 4
 },
 "nbformat": 4,
 "nbformat_minor": 2
}
