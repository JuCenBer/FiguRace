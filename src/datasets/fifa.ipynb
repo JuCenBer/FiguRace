{
 "cells": [
  {
   "cell_type": "markdown",
   "metadata": {},
   "source": [
    "# CODIGO FIFA"
   ]
  },
  {
   "cell_type": "markdown",
   "metadata": {},
   "source": [
    "Opcional uso de GoogleTranslator por si las posiciones estan en ingles\n",
    "en mi caso, las guarde en español una vez ya traducidas"
   ]
  },
  {
   "cell_type": "code",
   "execution_count": null,
   "metadata": {},
   "outputs": [],
   "source": [
    "\n",
    "# pip install -U deep-translator\n",
    "#from deep_translator import GoogleTranslator\n",
    "#translated = GoogleTranslator(source='auto', target='es').translate(\"keep it up, you are awesome\") \n",
    "\n",
    "'''#Traducir posiciones a partir de valores en el valor\n",
    "for x in pos:\n",
    "    palabra = GoogleTranslator(source='auto', target='es').translate(pos[x])\n",
    "    pos[x]= palabra\n",
    "'''"
   ]
  },
  {
   "cell_type": "code",
   "execution_count": 22,
   "metadata": {},
   "outputs": [],
   "source": [
    "import csv\n",
    "\n",
    "nomb_posiciones= {\"GK\":\"Portero\",\"CB\":\"Defensa central\",\"RB\":\"Defensa lateral\",\"LB\":\"Defensa lateral (lateral derecha)\",\n",
    "\"RWB\":\"Lateral (lateral izquierdo)\",\"LWB\":\"Extremo\",\"RW\":\"Extremo derecho\",\n",
    "\"LW\":\"Extremo derecho\",\"CM\":\"Mediocampista central\",\"CDM\":\"Mediocampista defensivo\",\n",
    "\"CAM\":\"Mediocampista ofensivo\",\"RM\":\"Mediocampista lateral\",\"LM\":\"Mediocampista lateral (Mediocampista derecho)\",\n",
    "\"ST\":\"Delantero\",\"CF\":\"Delantero central\",\"RF\":\"Delantero derecho\",\"LF\":\"Delantero izquierdo\",\n",
    "\"RW\":\"Extremo (Extremo derecho)\",\"LW\":\"Extremo (Extremo izquierdo)\"}\n",
    "\n",
    "# UTILIZO FUNCION PARA REEMPLAZAR EL VALOR NUMERICO POR CATEGORIA DE POTENCIAL\n",
    "def potencial(x):\n",
    "    if (x<60):\n",
    "        return \"Regular\"\n",
    "    elif(x<=79):\n",
    "        return \"Bueno\"\n",
    "    elif(x<=89):\n",
    "        return \"Muy bueno\"\n",
    "    else:\n",
    "        return \"Sobresaliente\"\n",
    "\n",
    "# CREO NUEVO CSV FORMATEADO\n",
    "with open ('fifa21.csv','r',encoding='utf-8') as arch:\n",
    "    with open ('jugadores_formateado.csv','w',encoding='utf-8') as arch_nuevo:\n",
    "        data= csv.reader(arch,delimiter=';')\n",
    "        writer = csv.writer(arch_nuevo, lineterminator='\\n')\n",
    "        header , logs_recurso = next(data), list(data) \n",
    "        new_header= [header[8],header[2], header[3],header[5],header[7],header[1]]\n",
    "        writer.writerow(new_header)\n",
    "        for x in logs_recurso:\n",
    "            lista= x[3].split('|')\n",
    "            nombres = [nomb_posiciones[x] for x in lista]\n",
    "            nombres_unidos= '|'.join(nombres)\n",
    "           # nombres= list(map(lambda x: nomb_posiciones[x],lista))\n",
    "            writer.writerow([x[8],x[2],nombres_unidos,x[5],potencial(int(x[7])),x[1]])\n"
   ]
  },
  {
   "cell_type": "code",
   "execution_count": 1,
   "metadata": {},
   "outputs": [
    {
     "ename": "NameError",
     "evalue": "name 'nombres' is not defined",
     "output_type": "error",
     "traceback": [
      "\u001b[1;31m---------------------------------------------------------------------------\u001b[0m",
      "\u001b[1;31mNameError\u001b[0m                                 Traceback (most recent call last)",
      "\u001b[1;32mc:\\Users\\gon\\Desktop\\Integrador\\grupo36\\src\\datasets\\fifa.ipynb Cell 5'\u001b[0m in \u001b[0;36m<cell line: 31>\u001b[1;34m()\u001b[0m\n\u001b[0;32m     <a href='vscode-notebook-cell:/c%3A/Users/gon/Desktop/Integrador/grupo36/src/datasets/fifa.ipynb#ch0000004?line=28'>29</a>\u001b[0m df\u001b[39m.\u001b[39mcolumns \u001b[39m=\u001b[39m [x\u001b[39m.\u001b[39mupper() \u001b[39mfor\u001b[39;00m x \u001b[39min\u001b[39;00m df\u001b[39m.\u001b[39mcolumns]\n\u001b[0;32m     <a href='vscode-notebook-cell:/c%3A/Users/gon/Desktop/Integrador/grupo36/src/datasets/fifa.ipynb#ch0000004?line=29'>30</a>\u001b[0m df\u001b[39m.\u001b[39mcolumns\n\u001b[1;32m---> <a href='vscode-notebook-cell:/c%3A/Users/gon/Desktop/Integrador/grupo36/src/datasets/fifa.ipynb#ch0000004?line=30'>31</a>\u001b[0m df[\u001b[39m'\u001b[39m\u001b[39mPOSITION\u001b[39m\u001b[39m'\u001b[39m]\u001b[39m=\u001b[39m df[\u001b[39m'\u001b[39;49m\u001b[39mPOSITION\u001b[39;49m\u001b[39m'\u001b[39;49m]\u001b[39m.\u001b[39;49mapply(name)\n\u001b[0;32m     <a href='vscode-notebook-cell:/c%3A/Users/gon/Desktop/Integrador/grupo36/src/datasets/fifa.ipynb#ch0000004?line=31'>32</a>\u001b[0m \u001b[39m#df['POSITION']= [x.split('|') for x in df['POSITION']]\u001b[39;00m\n\u001b[0;32m     <a href='vscode-notebook-cell:/c%3A/Users/gon/Desktop/Integrador/grupo36/src/datasets/fifa.ipynb#ch0000004?line=32'>33</a>\u001b[0m df[\u001b[39m'\u001b[39m\u001b[39mPOTENTIAL\u001b[39m\u001b[39m'\u001b[39m]\u001b[39m=\u001b[39m df[\u001b[39m'\u001b[39m\u001b[39mPOTENTIAL\u001b[39m\u001b[39m'\u001b[39m]\u001b[39m.\u001b[39mapply(pot)\n",
      "File \u001b[1;32mc:\\Users\\gon\\Desktop\\Integrador\\grupo36\\venv\\lib\\site-packages\\pandas\\core\\series.py:4433\u001b[0m, in \u001b[0;36mSeries.apply\u001b[1;34m(self, func, convert_dtype, args, **kwargs)\u001b[0m\n\u001b[0;32m   4323\u001b[0m \u001b[39mdef\u001b[39;00m \u001b[39mapply\u001b[39m(\n\u001b[0;32m   4324\u001b[0m     \u001b[39mself\u001b[39m,\n\u001b[0;32m   4325\u001b[0m     func: AggFuncType,\n\u001b[1;32m   (...)\u001b[0m\n\u001b[0;32m   4328\u001b[0m     \u001b[39m*\u001b[39m\u001b[39m*\u001b[39mkwargs,\n\u001b[0;32m   4329\u001b[0m ) \u001b[39m-\u001b[39m\u001b[39m>\u001b[39m DataFrame \u001b[39m|\u001b[39m Series:\n\u001b[0;32m   4330\u001b[0m     \u001b[39m\"\"\"\u001b[39;00m\n\u001b[0;32m   4331\u001b[0m \u001b[39m    Invoke function on values of Series.\u001b[39;00m\n\u001b[0;32m   4332\u001b[0m \n\u001b[1;32m   (...)\u001b[0m\n\u001b[0;32m   4431\u001b[0m \u001b[39m    dtype: float64\u001b[39;00m\n\u001b[0;32m   4432\u001b[0m \u001b[39m    \"\"\"\u001b[39;00m\n\u001b[1;32m-> 4433\u001b[0m     \u001b[39mreturn\u001b[39;00m SeriesApply(\u001b[39mself\u001b[39;49m, func, convert_dtype, args, kwargs)\u001b[39m.\u001b[39;49mapply()\n",
      "File \u001b[1;32mc:\\Users\\gon\\Desktop\\Integrador\\grupo36\\venv\\lib\\site-packages\\pandas\\core\\apply.py:1082\u001b[0m, in \u001b[0;36mSeriesApply.apply\u001b[1;34m(self)\u001b[0m\n\u001b[0;32m   1078\u001b[0m \u001b[39mif\u001b[39;00m \u001b[39misinstance\u001b[39m(\u001b[39mself\u001b[39m\u001b[39m.\u001b[39mf, \u001b[39mstr\u001b[39m):\n\u001b[0;32m   1079\u001b[0m     \u001b[39m# if we are a string, try to dispatch\u001b[39;00m\n\u001b[0;32m   1080\u001b[0m     \u001b[39mreturn\u001b[39;00m \u001b[39mself\u001b[39m\u001b[39m.\u001b[39mapply_str()\n\u001b[1;32m-> 1082\u001b[0m \u001b[39mreturn\u001b[39;00m \u001b[39mself\u001b[39;49m\u001b[39m.\u001b[39;49mapply_standard()\n",
      "File \u001b[1;32mc:\\Users\\gon\\Desktop\\Integrador\\grupo36\\venv\\lib\\site-packages\\pandas\\core\\apply.py:1137\u001b[0m, in \u001b[0;36mSeriesApply.apply_standard\u001b[1;34m(self)\u001b[0m\n\u001b[0;32m   1131\u001b[0m         values \u001b[39m=\u001b[39m obj\u001b[39m.\u001b[39mastype(\u001b[39mobject\u001b[39m)\u001b[39m.\u001b[39m_values\n\u001b[0;32m   1132\u001b[0m         \u001b[39m# error: Argument 2 to \"map_infer\" has incompatible type\u001b[39;00m\n\u001b[0;32m   1133\u001b[0m         \u001b[39m# \"Union[Callable[..., Any], str, List[Union[Callable[..., Any], str]],\u001b[39;00m\n\u001b[0;32m   1134\u001b[0m         \u001b[39m# Dict[Hashable, Union[Union[Callable[..., Any], str],\u001b[39;00m\n\u001b[0;32m   1135\u001b[0m         \u001b[39m# List[Union[Callable[..., Any], str]]]]]\"; expected\u001b[39;00m\n\u001b[0;32m   1136\u001b[0m         \u001b[39m# \"Callable[[Any], Any]\"\u001b[39;00m\n\u001b[1;32m-> 1137\u001b[0m         mapped \u001b[39m=\u001b[39m lib\u001b[39m.\u001b[39;49mmap_infer(\n\u001b[0;32m   1138\u001b[0m             values,\n\u001b[0;32m   1139\u001b[0m             f,  \u001b[39m# type: ignore[arg-type]\u001b[39;49;00m\n\u001b[0;32m   1140\u001b[0m             convert\u001b[39m=\u001b[39;49m\u001b[39mself\u001b[39;49m\u001b[39m.\u001b[39;49mconvert_dtype,\n\u001b[0;32m   1141\u001b[0m         )\n\u001b[0;32m   1143\u001b[0m \u001b[39mif\u001b[39;00m \u001b[39mlen\u001b[39m(mapped) \u001b[39mand\u001b[39;00m \u001b[39misinstance\u001b[39m(mapped[\u001b[39m0\u001b[39m], ABCSeries):\n\u001b[0;32m   1144\u001b[0m     \u001b[39m# GH#43986 Need to do list(mapped) in order to get treated as nested\u001b[39;00m\n\u001b[0;32m   1145\u001b[0m     \u001b[39m#  See also GH#25959 regarding EA support\u001b[39;00m\n\u001b[0;32m   1146\u001b[0m     \u001b[39mreturn\u001b[39;00m obj\u001b[39m.\u001b[39m_constructor_expanddim(\u001b[39mlist\u001b[39m(mapped), index\u001b[39m=\u001b[39mobj\u001b[39m.\u001b[39mindex)\n",
      "File \u001b[1;32mc:\\Users\\gon\\Desktop\\Integrador\\grupo36\\venv\\lib\\site-packages\\pandas\\_libs\\lib.pyx:2870\u001b[0m, in \u001b[0;36mpandas._libs.lib.map_infer\u001b[1;34m()\u001b[0m\n",
      "\u001b[1;32mc:\\Users\\gon\\Desktop\\Integrador\\grupo36\\src\\datasets\\fifa.ipynb Cell 5'\u001b[0m in \u001b[0;36mname\u001b[1;34m(x)\u001b[0m\n\u001b[0;32m     <a href='vscode-notebook-cell:/c%3A/Users/gon/Desktop/Integrador/grupo36/src/datasets/fifa.ipynb#ch0000004?line=20'>21</a>\u001b[0m lista\u001b[39m=\u001b[39m  x\u001b[39m.\u001b[39msplit(\u001b[39m'\u001b[39m\u001b[39m|\u001b[39m\u001b[39m'\u001b[39m)\n\u001b[0;32m     <a href='vscode-notebook-cell:/c%3A/Users/gon/Desktop/Integrador/grupo36/src/datasets/fifa.ipynb#ch0000004?line=21'>22</a>\u001b[0m [nomb_posiciones[x] \u001b[39mfor\u001b[39;00m x \u001b[39min\u001b[39;00m lista]\n\u001b[1;32m---> <a href='vscode-notebook-cell:/c%3A/Users/gon/Desktop/Integrador/grupo36/src/datasets/fifa.ipynb#ch0000004?line=22'>23</a>\u001b[0m nombres_unidos\u001b[39m=\u001b[39m \u001b[39m'\u001b[39m\u001b[39m|\u001b[39m\u001b[39m'\u001b[39m\u001b[39m.\u001b[39mjoin(nombres)\n\u001b[0;32m     <a href='vscode-notebook-cell:/c%3A/Users/gon/Desktop/Integrador/grupo36/src/datasets/fifa.ipynb#ch0000004?line=23'>24</a>\u001b[0m \u001b[39mreturn\u001b[39;00m nombres_unidos\n",
      "\u001b[1;31mNameError\u001b[0m: name 'nombres' is not defined"
     ]
    }
   ],
   "source": [
    "import pandas as pd\n",
    "\n",
    "nomb_posiciones= {\"GK\":\"Portero\",\"CB\":\"Defensa central\",\"RB\":\"Defensa lateral\",\"LB\":\"Defensa lateral (lateral derecha)\",\n",
    "\"RWB\":\"Lateral (lateral izquierdo)\",\"LWB\":\"Extremo\",\"RW\":\"Extremo derecho\",\n",
    "\"LW\":\"Extremo derecho\",\"CM\":\"Mediocampista central\",\"CDM\":\"Mediocampista defensivo\",\n",
    "\"CAM\":\"Mediocampista ofensivo\",\"RM\":\"Mediocampista lateral\",\"LM\":\"Mediocampista lateral (Mediocampista derecho)\",\n",
    "\"ST\":\"Delantero\",\"CF\":\"Delantero central\",\"RF\":\"Delantero derecho\",\"LF\":\"Delantero izquierdo\",\n",
    "\"RW\":\"Extremo (Extremo derecho)\",\"LW\":\"Extremo (Extremo izquierdo)\"}\n",
    "\n",
    "def pot(x):\n",
    "    if (int(x)<60):\n",
    "        return \"Regular\"\n",
    "    elif(int(x)<=79):\n",
    "        return \"Bueno\"\n",
    "    elif(int(x)<=89):\n",
    "        return \"Muy bueno\"\n",
    "    else:\n",
    "        return \"Sobresaliente\"\n",
    "\n",
    "def name(x):\n",
    "    lista=  x.split('|')\n",
    "    nombres = [nomb_posiciones[x] for x in lista]\n",
    "    nombres_unidos= '|'.join(nombres)\n",
    "    return nombres_unidos\n",
    "\n",
    "df = pd.read_csv('fifa21.csv', encoding=\"utf-8\", delimiter=\";\")\n",
    "columnas= df.columns\n",
    "df = df[[columnas[8],columnas[2],columnas[3], columnas[5], columnas[7], columnas[1]]]\n",
    "df.columns = [x.upper() for x in df.columns]\n",
    "df.columns\n",
    "df['POSITION']= df['POSITION'].apply(name)\n",
    "#df['POSITION']= [x.split('|') for x in df['POSITION']]\n",
    "df['POTENTIAL']= df['POTENTIAL'].apply(pot)\n",
    "df.to_csv('fifa_formateado.csv')\n"
   ]
  }
 ],
 "metadata": {
  "kernelspec": {
   "display_name": "Python 3.10.4 ('venv': venv)",
   "language": "python",
   "name": "python3"
  },
  "language_info": {
   "codemirror_mode": {
    "name": "ipython",
    "version": 3
   },
   "file_extension": ".py",
   "mimetype": "text/x-python",
   "name": "python",
   "nbconvert_exporter": "python",
   "pygments_lexer": "ipython3",
   "version": "3.10.4"
  },
  "orig_nbformat": 4,
  "vscode": {
   "interpreter": {
    "hash": "510a4fde98596ad99dcb34940c80b061270ff835c7c4cf718916ec3ce7209ab7"
   }
  }
 },
 "nbformat": 4,
 "nbformat_minor": 2
}
