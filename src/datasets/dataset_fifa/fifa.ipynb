{
 "cells": [
  {
   "cell_type": "markdown",
   "metadata": {},
   "source": [
    "# CODIGO FIFA"
   ]
  },
  {
   "cell_type": "code",
   "execution_count": 2,
   "metadata": {},
   "outputs": [],
   "source": [
    "import csv\n",
    "\n",
    "# pip install -U deep-translator\n",
    "#from deep_translator import GoogleTranslator\n",
    "#translated = GoogleTranslator(source='auto', target='es').translate(\"keep it up, you are awesome\") \n",
    "\n",
    "'''#Traduzcir posiciones a partir de valores en el valor\n",
    "for x in pos:\n",
    "    palabra = GoogleTranslator(source='auto', target='es').translate(pos[x])\n",
    "    pos[x]= palabra\n",
    "'''\n",
    "\n",
    "nomb_posiciones= {\"GK\":\"Portero\",\"CB\":\"Defensa central\",\"RB\":\"Defensa lateral\",\"LB\":\"Defensa lateral (lateral derecha)\",\n",
    "\"RWB\":\"Lateral (lateral izquierdo)\",\"LWB\":\"Extremo\",\"RW\":\"Extremo derecho\",\n",
    "\"LW\":\"Extremo derecho\",\"CM\":\"Mediocampista central\",\"CDM\":\"Mediocampista defensivo\",\n",
    "\"CAM\":\"Mediocampista ofensivo\",\"RM\":\"Mediocampista lateral\",\"LM\":\"Mediocampista lateral (Mediocampista derecho)\",\n",
    "\"ST\":\"Delantero\",\"CF\":\"Delantero central\",\"RF\":\"Delantero derecho\",\"LF\":\"Delantero izquierdo\",\n",
    "\"RW\":\"Extremo (Extremo derecho)\",\"LW\":\"Extremo (Extremo izquierdo)\"}\n",
    "\n",
    "\n",
    "    \n",
    "def potencial(x):\n",
    "    if (x<60):\n",
    "        return \"Regular\"\n",
    "    elif(x<=79):\n",
    "        return \"Bueno\"\n",
    "    elif(x<=89):\n",
    "        return \"Muy bueno\"\n",
    "    else:\n",
    "        return \"Sobresaliente\"\n",
    "\n",
    "\n",
    "with open ('fifa21.csv','r',encoding='utf-8') as arch:\n",
    "    with open ('fifa21_edit.csv','w',encoding='utf-8') as arch_nuevo:\n",
    "        data= csv.reader(arch,delimiter=';')\n",
    "        writer = csv.writer(arch_nuevo)\n",
    "        header , logs_recurso = next(data), list(data) \n",
    "        new_header= [header[8],header[2], header[3],header[5],header[7],header[1]]\n",
    "        writer.writerow(new_header)\n",
    "        for x in logs_recurso:\n",
    "            lista= x[3].split('|')\n",
    "            nombres = [nomb_posiciones[x] for x in lista]\n",
    "            nombres_unidos= '|'.join(nombres)\n",
    "           # nombres= list(map(lambda x: nomb_posiciones[x],lista))\n",
    "            writer.writerow([x[8],x[2],nombres_unidos,x[5],potencial(int(x[7])),x[1]])\n",
    "\n"
   ]
  }
 ],
 "metadata": {
  "interpreter": {
   "hash": "155abff32017166c443e997db2003735358b583135b8412ff9fc903f0b9dc584"
  },
  "kernelspec": {
   "display_name": "Python 3.10.4 64-bit (system)",
   "language": "python",
   "name": "python3"
  },
  "language_info": {
   "codemirror_mode": {
    "name": "ipython",
    "version": 3
   },
   "file_extension": ".py",
   "mimetype": "text/x-python",
   "name": "python",
   "nbconvert_exporter": "python",
   "pygments_lexer": "ipython3",
   "version": "3.10.4"
  },
  "orig_nbformat": 4
 },
 "nbformat": 4,
 "nbformat_minor": 2
}
