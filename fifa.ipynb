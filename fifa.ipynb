{
 "cells": [
  {
   "cell_type": "markdown",
   "metadata": {},
   "source": [
    "# CODIGO FIFA"
   ]
  },
  {
   "cell_type": "markdown",
   "metadata": {},
   "source": [
    "Opcional uso de GoogleTranslator por si las posiciones estan en ingles\n",
    "en mi caso, las guarde en español una vez ya traducidas"
   ]
  },
  {
   "cell_type": "code",
   "execution_count": null,
   "metadata": {},
   "outputs": [],
   "source": [
    "\n",
    "# pip install -U deep-translator\n",
    "#from deep_translator import GoogleTranslator\n",
    "#translated = GoogleTranslator(source='auto', target='es').translate(\"keep it up, you are awesome\") \n",
    "\n",
    "'''#Traducir posiciones a partir de valores en el valor\n",
    "for x in pos:\n",
    "    palabra = GoogleTranslator(source='auto', target='es').translate(pos[x])\n",
    "    pos[x]= palabra\n",
    "'''"
   ]
  },
  {
   "cell_type": "markdown",
   "metadata": {},
   "source": [
    "Manejo de datos del archivo CSV"
   ]
  },
  {
   "cell_type": "code",
   "execution_count": 1,
   "metadata": {},
   "outputs": [],
   "source": [
    "import csv\n",
    "\n",
    "nomb_posiciones= {\"GK\":\"Portero\",\"CB\":\"Defensa central\",\"RB\":\"Defensa lateral\",\"LB\":\"Defensa lateral (lateral derecha)\",\n",
    "\"RWB\":\"Lateral (lateral izquierdo)\",\"LWB\":\"Extremo\",\"RW\":\"Extremo derecho\",\n",
    "\"LW\":\"Extremo derecho\",\"CM\":\"Mediocampista central\",\"CDM\":\"Mediocampista defensivo\",\n",
    "\"CAM\":\"Mediocampista ofensivo\",\"RM\":\"Mediocampista lateral\",\"LM\":\"Mediocampista lateral (Mediocampista derecho)\",\n",
    "\"ST\":\"Delantero\",\"CF\":\"Delantero central\",\"RF\":\"Delantero derecho\",\"LF\":\"Delantero izquierdo\",\n",
    "\"RW\":\"Extremo (Extremo derecho)\",\"LW\":\"Extremo (Extremo izquierdo)\"}\n",
    "\n",
    "# UTILIZO FUNCION PARA REEMPLAZAR EL VALOR NUMERICO POR CATEGORIA DE POTENCIAL\n",
    "def potencial(x):\n",
    "    if (x<60):\n",
    "        return \"Regular\"\n",
    "    elif(x<=79):\n",
    "        return \"Bueno\"\n",
    "    elif(x<=89):\n",
    "        return \"Muy bueno\"\n",
    "    else:\n",
    "        return \"Sobresaliente\"\n",
    "\n",
    "# CREO NUEVO CSV FORMATEADO\n",
    "with open ('fifa21.csv','r',encoding='utf-8') as arch:\n",
    "    with open ('jugadores_formateado.csv','w',encoding='utf-8') as arch_nuevo:\n",
    "        data= csv.reader(arch,delimiter=';')\n",
    "        writer = csv.writer(arch_nuevo, lineterminator='\\n')\n",
    "        header , logs_recurso = next(data), list(data) \n",
    "        new_header= [header[8],header[2], header[3],header[5],header[7],header[1]]\n",
    "        writer.writerow(new_header)\n",
    "        for x in logs_recurso:\n",
    "            lista= x[3].split('|')\n",
    "            nombres = [nomb_posiciones[x] for x in lista]\n",
    "            nombres_unidos= '|'.join(nombres)\n",
    "           # nombres= list(map(lambda x: nomb_posiciones[x],lista))\n",
    "            writer.writerow([x[8],x[2],nombres_unidos,x[5],potencial(int(x[7])),x[1]])\n"
   ]
  }
 ],
 "metadata": {
  "interpreter": {
   "hash": "8e42de7f272af51c46ecb9fd929a1de0dc71ee5576f9fc3b15c6c7432bd66913"
  },
  "kernelspec": {
   "display_name": "Python 3.10.4 64-bit",
   "language": "python",
   "name": "python3"
  },
  "language_info": {
   "codemirror_mode": {
    "name": "ipython",
    "version": 3
   },
   "file_extension": ".py",
   "mimetype": "text/x-python",
   "name": "python",
   "nbconvert_exporter": "python",
   "pygments_lexer": "ipython3",
   "version": "3.10.4"
  },
  "orig_nbformat": 4
 },
 "nbformat": 4,
 "nbformat_minor": 2
}
